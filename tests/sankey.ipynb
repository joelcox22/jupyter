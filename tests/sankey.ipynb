{
 "cells": [
  {
   "cell_type": "code",
   "execution_count": 59,
   "metadata": {},
   "outputs": [
    {
     "data": {
      "text/markdown": [
       "\n",
       "# test\n",
       "\n",
       "```mermaid\n",
       "sankey-beta\n",
       "\n",
       "a,b,15\n",
       "a,c,75\n",
       "b,d,25\n",
       "c,d,50\n",
       "b,e,40\n",
       "x,b,50\n",
       "c,e,25\n",
       "```\n"
      ]
     },
     "execution_count": 59,
     "metadata": {},
     "output_type": "execute_result"
    }
   ],
   "source": [
    "Deno.jupyter.md`\n",
    "# test\n",
    "\n",
    "\\`\\`\\`mermaid\n",
    "sankey-beta\n",
    "\n",
    "a,b,15\n",
    "a,c,75\n",
    "b,d,25\n",
    "c,d,50\n",
    "b,e,40\n",
    "x,b,50\n",
    "c,e,25\n",
    "\\`\\`\\`\n",
    "`;"
   ]
  },
  {
   "cell_type": "code",
   "execution_count": null,
   "metadata": {},
   "outputs": [],
   "source": []
  }
 ],
 "metadata": {
  "kernelspec": {
   "display_name": "Deno",
   "language": "typescript",
   "name": "deno"
  },
  "language_info": {
   "codemirror_mode": "typescript",
   "file_extension": ".ts",
   "mimetype": "text/x.typescript",
   "name": "typescript",
   "nbconvert_exporter": "script",
   "pygments_lexer": "typescript",
   "version": "5.6.2"
  }
 },
 "nbformat": 4,
 "nbformat_minor": 2
}
