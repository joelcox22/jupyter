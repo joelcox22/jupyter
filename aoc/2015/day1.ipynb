{
 "cells": [
  {
   "cell_type": "code",
   "execution_count": 2,
   "metadata": {},
   "outputs": [
    {
     "data": {
      "text/plain": [
       "\u001b[32m\"((((()(()(((((((()))(((()((((()())(())()(((()((((((()((()(()(((()(()((())))()((()()())))))))))()((((... 7000\"\u001b[39m"
      ]
     },
     "execution_count": 2,
     "metadata": {},
     "output_type": "execute_result"
    }
   ],
   "source": [
    "import * as h from '../helper.ts';\n",
    "\n",
    "const input = await h.getInput(2015, 1);\n",
    "input.slice(0, 100)+'... '+input.length;"
   ]
  },
  {
   "cell_type": "code",
   "execution_count": 3,
   "metadata": {},
   "outputs": [
    {
     "data": {
      "text/plain": [
       "[\n",
       "   \u001b[33m1\u001b[39m,  \u001b[33m1\u001b[39m,  \u001b[33m1\u001b[39m,  \u001b[33m1\u001b[39m,  \u001b[33m1\u001b[39m, \u001b[33m-1\u001b[39m,  \u001b[33m1\u001b[39m,  \u001b[33m1\u001b[39m, \u001b[33m-1\u001b[39m,  \u001b[33m1\u001b[39m,  \u001b[33m1\u001b[39m,  \u001b[33m1\u001b[39m,\n",
       "   \u001b[33m1\u001b[39m,  \u001b[33m1\u001b[39m,  \u001b[33m1\u001b[39m,  \u001b[33m1\u001b[39m,  \u001b[33m1\u001b[39m, \u001b[33m-1\u001b[39m, \u001b[33m-1\u001b[39m, \u001b[33m-1\u001b[39m,  \u001b[33m1\u001b[39m,  \u001b[33m1\u001b[39m,  \u001b[33m1\u001b[39m,  \u001b[33m1\u001b[39m,\n",
       "  \u001b[33m-1\u001b[39m,  \u001b[33m1\u001b[39m,  \u001b[33m1\u001b[39m,  \u001b[33m1\u001b[39m,  \u001b[33m1\u001b[39m,  \u001b[33m1\u001b[39m, \u001b[33m-1\u001b[39m,  \u001b[33m1\u001b[39m, \u001b[33m-1\u001b[39m, \u001b[33m-1\u001b[39m,  \u001b[33m1\u001b[39m,  \u001b[33m1\u001b[39m,\n",
       "  \u001b[33m-1\u001b[39m, \u001b[33m-1\u001b[39m,  \u001b[33m1\u001b[39m, \u001b[33m-1\u001b[39m,  \u001b[33m1\u001b[39m,  \u001b[33m1\u001b[39m,  \u001b[33m1\u001b[39m,  \u001b[33m1\u001b[39m, \u001b[33m-1\u001b[39m,  \u001b[33m1\u001b[39m,  \u001b[33m1\u001b[39m,  \u001b[33m1\u001b[39m,\n",
       "   \u001b[33m1\u001b[39m,  \u001b[33m1\u001b[39m,  \u001b[33m1\u001b[39m,  \u001b[33m1\u001b[39m, \u001b[33m-1\u001b[39m,  \u001b[33m1\u001b[39m,  \u001b[33m1\u001b[39m,  \u001b[33m1\u001b[39m, \u001b[33m-1\u001b[39m,  \u001b[33m1\u001b[39m,  \u001b[33m1\u001b[39m, \u001b[33m-1\u001b[39m,\n",
       "   \u001b[33m1\u001b[39m,  \u001b[33m1\u001b[39m,  \u001b[33m1\u001b[39m,  \u001b[33m1\u001b[39m, \u001b[33m-1\u001b[39m,  \u001b[33m1\u001b[39m,  \u001b[33m1\u001b[39m, \u001b[33m-1\u001b[39m,  \u001b[33m1\u001b[39m,  \u001b[33m1\u001b[39m,  \u001b[33m1\u001b[39m, \u001b[33m-1\u001b[39m,\n",
       "  \u001b[33m-1\u001b[39m, \u001b[33m-1\u001b[39m, \u001b[33m-1\u001b[39m,  \u001b[33m1\u001b[39m, \u001b[33m-1\u001b[39m,  \u001b[33m1\u001b[39m,  \u001b[33m1\u001b[39m,  \u001b[33m1\u001b[39m, \u001b[33m-1\u001b[39m,  \u001b[33m1\u001b[39m, \u001b[33m-1\u001b[39m,  \u001b[33m1\u001b[39m,\n",
       "  \u001b[33m-1\u001b[39m, \u001b[33m-1\u001b[39m, \u001b[33m-1\u001b[39m, \u001b[33m-1\u001b[39m, \u001b[33m-1\u001b[39m, \u001b[33m-1\u001b[39m, \u001b[33m-1\u001b[39m, \u001b[33m-1\u001b[39m, \u001b[33m-1\u001b[39m, \u001b[33m-1\u001b[39m,  \u001b[33m1\u001b[39m, \u001b[33m-1\u001b[39m,\n",
       "   \u001b[33m1\u001b[39m,  \u001b[33m1\u001b[39m,  \u001b[33m1\u001b[39m,  \u001b[33m1\u001b[39m,\n",
       "  ... 6900 more items\n",
       "]"
      ]
     },
     "execution_count": 3,
     "metadata": {},
     "output_type": "execute_result"
    }
   ],
   "source": [
    "const steps = input.split('').map((c) => c === '(' ? 1 : -1);\n",
    "steps"
   ]
  },
  {
   "cell_type": "code",
   "execution_count": 4,
   "metadata": {},
   "outputs": [
    {
     "name": "stdout",
     "output_type": "stream",
     "text": [
      "Part 1: 74\n",
      "Part 2: 1794\n"
     ]
    }
   ],
   "source": [
    "let p2: number | undefined;\n",
    "\n",
    "const p1 = steps.reduce((a, b, i) => {\n",
    "    const v = a + b;\n",
    "    if (v === -1 && typeof p2 === 'undefined') {\n",
    "        p2 = i;\n",
    "    }\n",
    "    return v;\n",
    "}, 0);\n",
    "\n",
    "console.log('Part 1:', p1);\n",
    "console.log('Part 2:', p2);"
   ]
  },
  {
   "cell_type": "code",
   "execution_count": null,
   "metadata": {},
   "outputs": [],
   "source": []
  }
 ],
 "metadata": {
  "kernelspec": {
   "display_name": "Deno",
   "language": "typescript",
   "name": "deno"
  },
  "language_info": {
   "codemirror_mode": "typescript",
   "file_extension": ".ts",
   "mimetype": "text/x.typescript",
   "name": "typescript",
   "nbconvert_exporter": "script",
   "pygments_lexer": "typescript",
   "version": "5.6.2"
  }
 },
 "nbformat": 4,
 "nbformat_minor": 2
}
