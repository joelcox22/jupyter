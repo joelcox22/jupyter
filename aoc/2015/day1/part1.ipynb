{
 "cells": [
  {
   "cell_type": "code",
   "execution_count": 6,
   "metadata": {},
   "outputs": [
    {
     "name": "stdout",
     "output_type": "stream",
     "text": [
      "part 2:  1794\n",
      "part 1:  74\n"
     ]
    }
   ],
   "source": [
    "import * as h from '../../helper.ts';\n",
    "\n",
    "const input = await h.getInput(2015, 1);\n",
    "const steps = input.split('').map((c) => (c === '(' ? 1 : -1));\n",
    "\n",
    "let done = false;\n",
    "\n",
    "const v = steps.reduce((a, b, i) => {\n",
    "    if (a+b === -1 && !done) {\n",
    "        console.log('part 2: ', i)\n",
    "        done = true;\n",
    "    }\n",
    "    return a + b;\n",
    "}, 0);\n",
    "\n",
    "console.log('part 1: ', v);"
   ]
  }
 ],
 "metadata": {
  "kernelspec": {
   "display_name": "Deno",
   "language": "typescript",
   "name": "deno"
  },
  "language_info": {
   "codemirror_mode": "typescript",
   "file_extension": ".ts",
   "mimetype": "text/x.typescript",
   "name": "typescript",
   "nbconvert_exporter": "script",
   "pygments_lexer": "typescript",
   "version": "5.6.2"
  }
 },
 "nbformat": 4,
 "nbformat_minor": 2
}
