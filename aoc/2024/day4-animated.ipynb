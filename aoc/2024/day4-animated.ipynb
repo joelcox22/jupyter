{
 "cells": [
  {
   "cell_type": "code",
   "execution_count": null,
   "metadata": {},
   "outputs": [],
   "source": [
    "import Aoc from \"../aoc.ts\";\n",
    "\n",
    "const aoc = await Aoc.load(2024, 4);\n"
   ]
  },
  {
   "cell_type": "code",
   "execution_count": 1,
   "metadata": {},
   "outputs": [],
   "source": [
    "let input = `MMMSXXMASM\n",
    "MSAMXMSMSA\n",
    "AMXSXMAAMM\n",
    "MSAMASMSMX\n",
    "XMASAMXAMM\n",
    "XXAMMXXAMA\n",
    "SMSMSASXSS\n",
    "SAXAMASAAA\n",
    "MAMMMXMMMM\n",
    "MXMXAXMASX`;\n",
    "\n",
    "// input = aoc.input;\n",
    "\n",
    "const parsed = input.split('\\n').map((l) => l.split(''));\n",
    "const w = parsed[0].length;\n",
    "const h = parsed.length;"
   ]
  },
  {
   "cell_type": "code",
   "execution_count": 1,
   "metadata": {},
   "outputs": [
    {
     "data": {
      "text/html": [
       "testing?"
      ]
     },
     "metadata": {},
     "output_type": "display_data"
    }
   ],
   "source": [
    "import { Viz } from '../viz.ts';\n",
    "\n",
    "const viz = new Viz(300, 300);\n",
    "\n",
    "let canvas: any;\n",
    "\n",
    "for (let i=0; i<200; i++) {\n",
    "  viz.frame((ctx) => {\n",
    "    ctx.strokeStyle = `rgb(${255-i}, 200, ${i})`;\n",
    "    ctx.strokeWidth = 10;\n",
    "    ctx.beginPath();\n",
    "    if (i<100) {\n",
    "      ctx.moveTo(100, 100+i);\n",
    "      ctx.lineTo(200, 200-i);\n",
    "    } else {\n",
    "      ctx.moveTo(i, 200);\n",
    "      ctx.lineTo(300-i, 100);\n",
    "    }\n",
    "    ctx.stroke();\n",
    "  }, canvas);\n",
    "  if (i === 50) canvas = viz.snapshot();\n",
    "}\n",
    "\n",
    "await viz.render(200);\n"
   ]
  }
 ],
 "metadata": {
  "kernelspec": {
   "display_name": "Deno",
   "language": "typescript",
   "name": "deno"
  },
  "language_info": {
   "codemirror_mode": "typescript",
   "file_extension": ".ts",
   "mimetype": "text/x.typescript",
   "name": "typescript",
   "nbconvert_exporter": "script",
   "pygments_lexer": "typescript",
   "version": "5.6.2"
  }
 },
 "nbformat": 4,
 "nbformat_minor": 2
}
