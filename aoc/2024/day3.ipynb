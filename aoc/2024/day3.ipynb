{
 "cells": [
  {
   "cell_type": "code",
   "execution_count": 1,
   "metadata": {},
   "outputs": [
    {
     "data": {
      "text/html": [
       "\n",
       "    <div>\n",
       "      <style scoped>\n",
       "        * {\n",
       "          font-family: courier;\n",
       "          font-size: 1.1em;\n",
       "        }\n",
       "      </style>\n",
       "      <h2>--- Day 3: Mull It Over ---</h2><p>\"Our computers are having issues, so I have no idea if we have any Chief Historians <span title=\"There's a spot reserved for Chief Historians between the green toboggans and the red toboggans. They've never actually had any Chief Historians in stock, but it's best to be prepared.\">in stock</span>! You're welcome to check the warehouse, though,\" says the mildly flustered shopkeeper at the <a href=\"/2020/day/2\">North Pole Toboggan Rental Shop</a>. The Historians head out to take a look.</p>\n",
       "<p>The shopkeeper turns to you. \"Any chance you can see why our computers are having issues again?\"</p>\n",
       "<p>The computer appears to be trying to run a program, but its memory (your puzzle input) is <em>corrupted</em>. All of the instructions have been jumbled up!</p>\n",
       "<p>It seems like the goal of the program is just to <em>multiply some numbers</em>. It does that with instructions like <code>mul(X,Y)</code>, where <code>X</code> and <code>Y</code> are each 1-3 digit numbers. For instance, <code>mul(44,46)</code> multiplies <code>44</code> by <code>46</code> to get a result of <code>2024</code>. Similarly, <code>mul(123,4)</code> would multiply <code>123</code> by <code>4</code>.</p>\n",
       "<p>However, because the program's memory has been corrupted, there are also many invalid characters that should be <em>ignored</em>, even if they look like part of a <code>mul</code> instruction. Sequences like <code>mul(4*</code>, <code>mul(6,9!</code>, <code>?(12,34)</code>, or <code>mul ( 2 , 4 )</code> do <em>nothing</em>.</p>\n",
       "<p>For example, consider the following section of corrupted memory:</p>\n",
       "<pre><code>x<em>mul(2,4)</em>%&amp;mul[3,7]!@^do_not_<em>mul(5,5)</em>+mul(32,64]then(<em>mul(11,8)mul(8,5)</em>)</code></pre>\n",
       "<p>Only the four highlighted sections are real <code>mul</code> instructions. Adding up the result of each instruction produces <code><em>161</em></code> (<code>2*4 + 5*5 + 11*8 + 8*5</code>).</p>\n",
       "<p>Scan the corrupted memory for uncorrupted <code>mul</code> instructions. <em>What do you get if you add up all of the results of the multiplications?</em></p>\n",
       "\n",
       "    </div>\n",
       "  "
      ]
     },
     "metadata": {},
     "output_type": "display_data"
    },
    {
     "data": {
      "text/html": [
       "\n",
       "    <div>\n",
       "      <style scoped>\n",
       "        * {\n",
       "          font-family: courier;\n",
       "          font-size: 1.1em;\n",
       "        }\n",
       "      </style>\n",
       "      \n",
       "      <p>To begin, here's your puzzle input:</p>\n",
       "      <code style=\"display: block; max-height: 400px; overflow: auto; padding: 4px; font-family: courier; white-space: pre;\">what(){mul(697,542)/&gt;why(479,94)mul(995,893)why()]%?:]select()%}mul(408,907),{from()$&amp;&amp;/mul(893,282)[#%@(who()what()!~mul(313,566)@@how()$mul(964,183)]how()where():?what()&gt;%mul(743,40)*&#39;]~+/!mul(241,491)&lt;{]&lt;)]from()how()&#39;from()don&#39;t()&amp;where()%how(216,229)how()where()!mul(35,991)when()why(610,462)&gt; select(594,57)$}&amp;^mul(699,136)}]?who()when(){mul(970,603) ?mul(200,732)/[:select()(mul(967,199)+select(),/!how()when()mul(521,824)#;]:+&amp;-&gt;)}mul(473,278):$&amp;mul(347,457)}&amp;*why()~ when()mul(324,773)-$ mul(460,152)#-;~,when()@mul(331,186)%don&#39;t()]-mul(197,390)how()mul(774,494)/from()))how()),mul(758,549) &gt;why()mul(485,656)where()~-mul(938,190)&amp;mul(326,51) mul(304,567)mul(165,576)+&#39;-]when()&#39;+why()/mul(906,352)from(618,898)where() how()#~mul(508,347)what()when()/&amp;^why()why()&lt;/mul(793,679)why()-}who()from(){*where(),$don&#39;t()*#+{&lt;mul(38,430){^}why()~%from(318,733):~&lt;mul(611,673):-#/%why()~#how()mul(339,558)&lt;why()*:&amp;when()[/mul(716,978)?from()@&amp;^/&amp;&#39;&gt;mul(847,535)~ #)from()what()$)/do()//)where()what();where(200,117)how();+mul(242,61)?:-?mul(371,193)%%mul(173,850)*from()why()# ,#)mul(566,907)&amp;don&#39;t()/how()&amp;mul(412,399)}^why()from()mul(905,46)^from(169,718)!(when()mul(920,500)*don&#39;t()who()how()what()}why()-]who()who()(mul(927,865)@select()mul(371,913)mul(254,979)-select()mul(614,684)$;,{mul(841,422)!when()^mul(292,172)/]what(),&amp;]mul(668,298)what() mul(788,698))&amp;mul(241,230),*mul(513,152)}*:[/mul(762,255)*/mul(199,330)how()&#39;)^mul(716,272)}#-select(196,254)-&amp;how()*mul(181,411)@){]#%:,mul(830,669):-[&gt;!select()who()mul(490,309):mul(597,806)who()mul(911,931)when()]&lt;mul(877,212)+(;?~;mul(242,138)from()?(select()how()$mul(624,989)[mul(232,970)select(480,963)select()&#39;&amp;(&gt;:mul(749,304)select()$who()*&amp;$:!}mul(499,106)why()select())when(453,833)~%^don&#39;t()who()&lt;]]&gt;}{(mul(666,746)@&amp;where(){do()from());why()where()#mul(436,226); what()^from()~when()*mul(333,877)&amp;[mul(849,387)mul(846,509)$mul(690,845)where()what()-~where())mul(120,516+&#39;[;where()- mul(671,693)]who()#/mul(151,226)&#39;what()mul(662,390)when():don&#39;t()how()mul(586,859){who()+}*?select()*}[mul(162,392)##who()!don&#39;t()^from();select(183,354)+@#+how()mul(235,965);&lt;[&#39;*@*&amp;mul(836,254)#who()^,{~*&amp;from(912,964)mul(81,63)(&#39;who()+]who()who(616,562)&amp;[don&#39;t()-%select()&gt;why()&amp;:*mul(148,501)&lt;&#39;?don&#39;t()/&#39;%$when()+#mul(565,716)how(551,943)~&gt;&#39;:)mul(812,235)(who()@what()do()mul(933,530)mul(516+when(95,848):what()/~mul(685,485)why(){[&lt;^,from()-why():mul(372,990)^mul(780,194)~(when()-$&gt; mul(158,500)where(213,721)where()-+mul(783,720)]select()mul(830,674)-*,;^)mul(542,769)&lt;&gt;;@;mul(340,494)~,mul(972,343)-*{&lt;}*why()&#39;&amp;@mul(995,93)}/}^&amp;mul(632,3)~mul(151,607)&#39;~who()~+ why()select(970,692)mul(253,471)what()}select(450,660){mul(186,635)!&#39;from():&gt;;@+mul(109,407)mul(231,530)who()&#39;mul(721,360)(#{what()?mul(764,403) mul(974&gt;mul(700,804)&gt;:&gt;select(108,396)-where()where()~#from()mul(618,688),&lt;?*who()@[&amp;(mul(862,757)?^mul(448,304)who()who())&#39;(~when(887,857)what()+mul(761,362)@mul(937,417)when(949,74)who();why(669,288),where()%select()mul(31,324)&#39;who()mul(910,432&lt;&lt;@when(148,213)^+from()who()&gt;?*mul(786,325)&#39;&lt;select(){mul(216,115)mul(553,306)/what(944,865)%*?where(669,409){don&#39;t():who()/)mul(247,444)*-&gt;]who()-([mul(312select()do()from()@%mul(647,88)+!mul(920,442)where(){$mul(876,103)select()select()&amp;&lt;-~&#39;;#mul(658,434)\n",
       "what(203,778)-)]mul(25,629)why()^$~)?why()mul(207,846)(from(560,549)select()&amp;-]?&gt;what()mul(782,867}(^}^mul(48,779)&lt;$where()how(396,689)mul(623,278)}select(34,689)when(),how()%({;$mul(494,74)*from()when()mul(35,522):&gt; &amp;&amp;when()mul(328?}mul(186,822)]when()how())why()mul(775,741){-&gt;%mul(812&#39;{~;mul(202,822)-mul(282,383)what()from(340,89){mul(729,896),^-what(313,84)mul(172,196#mul(447,361)why()&amp;*?&lt;!mul:how()#{*-&gt;/who()(+mul(395,872)#^^{@,-mul(394,873from()%mul(988,272)(%select()!~mul(101,388)what(),how()how()$#how()*mul(551,577)%what()mul(191,793)&#39;&#39;don&#39;t()mul(744,26)!select(){&#39;&gt;,mul(140,452)mul(887,632)#&gt;}{;@^+-mul(835,39) how()+/-}*},@mul(66,401)what();why()]] %+&amp;do(),when();:who()[select():mul(474,260)who(),{,)}why()%who()mul(126,874)}where(746,668)&gt;mul(60,400)~#select()select()@:mul-@*%when(134,304)?how()mul(18,684)what())&#39;&amp;/ ,{^mul(770,406){{@*  {who()who()-mul(312,245)/&gt;{when()why()from()^&amp;mul(936,201)&amp;from()-#$(mul(970,306){%from(193,334)mul(770,300)how()don&#39;t()mul(17,145)(%mul(204,15)]#!mul(592,786)+?what()*^mul(903,387);}($mul(977,422)where(136,281)mul(412,540)select()@&amp;,mul(331,930)where()!;%why())!mul(647,169):!mul(624,260)&gt;,^^!where()#+mul(364,706) why()[when()(?from(361,489)~?/mul(572,99){mul(162,620)select()#?&#39;$)mul(963,810)(&lt;&#39;^mul(381,182)mul(154,418)(mul(307,576){;select()mul(872,424)[,{&amp;){&amp;/mul(542,342)&amp;*(when()+#&lt;mul(71,788)!!what())&#39;mul(208,451)?mul(876,225)&lt;(what()&#39;mul(97,553)who();$ &amp;&amp;#%why()]mul(932,42)# &gt;/&gt;mul(29,665)$don&#39;t()?where()mul(903,998)%?select()])#;mul(660,171)who() why()&gt;what(), &lt;mul(34]}%where(36,389)mul(769,195)]how()&#39;#mul(780,304)-?!&#39; what()how()mul(86,199)-{&gt;mul(956,616);,$,}mul(982,695)-:where()why()mul(585,888)why()where()]!&amp;{mul(422,906)select()where(721,370)&lt;mul(397,873)why()where():mul(354,754);)mul(815,211)mul(343,66)&lt;who(501,465)#how()who() (mul(672,904)]%where(579,405)why()how()({what()#;mul(855,294(#}mul(681,259))mul(832,942)where()who()+&amp;+mul(484,780)(%when()where()mul(343,393)-&#39; select()mul(356,496)who()%;why()!where()when())why()mul(925,579)]#when()why()^why()@/how(286,462)mul(702,403)-,%;?&amp;^mul(673,873)(mul(147,896){}&lt;&lt;what(),do()when():&amp;{$;!}why()~mul(70,323)}why(178,679)what())#&#39;^,^]mul(153,346)mul(738,463)select()from()[#?:-;$&lt;mul(993,379)mul(305,729)?&gt;mul(673,348)from() mulwhen()~don&#39;t()&#39;,@&amp;+]]where()$ mul(813,553)+&#39;who()-where()select(){{,:mul(535,550)how();&amp;;what(992,219)mul(564,279 mul(551,875)?how(920,226)(+;+?;^mul(383,579)?##%{ [*mul(576,484)&gt;:}&lt;,+when()do()&gt;who()&amp;#how())]what()mul(272,737)-/,who():;#+~]mul(580,211) :from()[&amp;/what()}mul(893,368){*&amp;+mul(393,508)}-!^when(962,123)]@/mul(184,205)when()]]when()&#39;who()mul(249,915)when()from()-@/ how()~mul(495,101))&lt;(}+%,:?,mul(356,636when()(why()^]]mul(662,103)#mul(118,597)mul(968,629):why()@]mul(676,360)select(),&#39;select()-&lt;mul(678,598)mul(341,306)what()@^who()%why(){/$mul(527,202)$-mul(666,372)[]&#39;+,[what()from())mul(732,488)*)mul(817,225who(){^select()from()select(),mul(913,885):]#@(;when()select()&amp;when()mul(337,865)select()what()-mul(798,769)(([mul(132,976);*where()when()from()*(,mul(90,998) )  )from())what()?do()why()!what()&lt;who()mul(720,893)[$from()from()%($who()mul(361,619)%mul(773,817)~/,/*mul(262,292)^$mul(543,488:select()from()~$mul(9,28)&gt;,mul(579,23)@why()@$:what()mul(370,656)\n",
       "from()&#39;/,what()/&lt;,%how()mul(748,154)&gt;[select();,who()&gt;select():&#39;mul(663,830)%@(mul(417,364)-why()&#39;mul(947,551);!/)!++mul(385,221),&gt;%#mul(410,27)}from(669,909)&amp;who()~:&#39;&lt;)how()mul(203,50)why():$who()from()^{^(mul(425,96)why())from()#*&amp;[}mul(657,805)why(){$&amp;mul(764,125)what()select()mul(118:%;do()where()@why()@{&#39;mul(3,361),/mul(9,725)who()from()&#39;from()}&gt;@*!mul(258,517)@! !}[mul(734,173),&gt;~mul(567,929)&gt;^$%}?mul(458,106),-mul(904,99)#where():!mul(304,344)(&#39;] )mul(474,433){]why(552,617)[*&gt;*[?mul(292,452)@/when():mul(671,8)what();mul/*&amp;mul(157,964)):+$^:select()mul(577:@(mul(481,28)mul(120,742):+&amp;@mul(932,682)don&#39;t()#~,]{mul(584,430)don&#39;t()!who()]]/$when():mul(447,144);)~#mul{select(899,436)}:when()mul(18,3)$&#39;why()/ &lt;mul(803,2) &#39;$when()(-mul(498,989)when()&gt;select()*(~from(848,249) mul(402,212#(when()what(526,893)(when()who()!select(855,813)mul(267,568)?when()~?mul(790,400)how();:%mul(565,976)*}how()what()&gt;+from()from()#don&#39;t()&gt;&lt;mul(117,353)+&lt;&gt;what(465,504)+,+/@^mul(702,607)/%mul(775,709)from()what()$(where()^what()why()when()}mul(728,176)&amp;$~mul(732,727)^&#39;&amp;mul(999,652)&#39;]~mul(780,700)-~&amp;{-{&lt;*select()when()mul(729,462) mul(105,648)@;,?^#!how(963,469))mul(906,654)&amp;]who()from()&amp;mul(881,852)how(),how()where()where()@(&lt;(from()mul(822,522)mul(874,978)mul(233,399)select()from()&gt;/;where()when()^[why()mul(474,473)where(896,324)^mul(638,197)}how())-{&gt;how()why()}&gt;mul(611,521)mul(364,693)why(),-&amp;where()+&gt;# how()mul(53,996)/&lt;[where(204,56)&lt;-;}~(mul(547,235)+where()~%why()&#39;select()mul(407?%%]/how()~&gt;^mul(749,65)mul(171,190 why()%+?when()when()&amp;how()]&lt;mul(696,733)mul(101,606)from()where() mul(606,572)/&gt;!@&lt;+%don&#39;t():-@{who()#mul(104,125)when()&gt;{&lt;-%mul(627,539)when()]how()-select()]mul(983,406)+where()]-when()when()mul(537,478)from()#~)how()mul(305,547)/&amp;?)%+who(){do()^who()why()+*select()@#^mul*+!mul(324,352)*{why()select()when()where()how()++@mul(758,823)&gt;from()(how()mul(155,143)how()$[] +-mul(220,494)&lt;#&lt;mul(24,76)(&gt;how():&amp;@what()mul(996,77)],&lt;}^where()%mul(153,549)/$&amp;}[[#):!mul(974,546)!where()mul(406,100)mul(684,435)&lt;when()/)!what()/&amp;;&gt;mul(36,14)*,$@~,don&#39;t()&lt;{@*&amp;mul(302,244)mul(934,996)}-when(),;where()-&gt;mul(184,150)&lt;~/!){mul(457,435)/select()mul(692,366)mul(294,439)(*where()who()why(124,291)$how():don&#39;t())mul(238,489)[;(^&amp;/}select()&gt;@mul(199,347)&lt;why()-mul(101when()%&#39;mul(676,397)who()what(){#mul(850,573)mul(534,475)-&#39;&amp;;mul(558,350)mul(545,931)who(688,232);where()&#39;%mul(870,756)+^-+mul(365,269,select()(mul(458,213)(]-, mul(72,716)&gt;(&lt;(#mul(135,803),what()where() !):!mul(119,226)-)],who()mul(443,526))how();where()mul(652,762)from()$)&#39;$^[!mul(915,54)%&#39;what()where()who()mul(685,223)^how()$]/&#39;mul(660,757))mul(401,390)!) ;what()what()@{:mulselect()#( ?where()[+when()mul(677,473)~@:select()]*mul(368,274)#%{where()mul(387,806)!@why()select()&#39;&#39;+mul(673,924)}?&lt;where()&gt;%mul(544,205)%? when()+mul(990,513)@&#39;&amp;:(]mul(115,860)?-&lt;*&gt;how()mul(452,49)&gt;mul(672,248)why()~where()^+[mul(15,506)&gt;}don&#39;t()}~,~when()&lt;what()mul(284,616)how()/what()select()}(select()&gt;mul(732,173)mul(26,691):where() where()who();when()}mul(483,470)+/ select()mul(693,863^/&amp;mul(999,441)what()&amp;select()?, ?&lt;mul(463,840)mul(429,885:{]mul(317,971)from() : mul(797,491)why()),why()&gt;*why()when() *mul(114,59*[&gt;{-{#!/usr/bin/perlwhy()mul(247,67)?what()when()%what()@&#39;{+mul(453,52)\n",
       "where()mul(231,244)&gt;&gt;/where()mul(216,829)who(){%mul(552,537)when()]$mul(185,377);}&gt;where()::why()mul(300,903)]#!mul(61,613)/mul(106,584)^,&#39;?; &amp;&#39;select()~mul(145,411))?what()+&amp;how():&amp;mul(139,18)/where()&lt; ,from()+&amp;don&#39;t()#% ,*mul(158,236)^,(what()!?mul(861,544)]:who()how()-*how(),mul(103,378)+):what(712,256)-+$:from()(mul(172,254);?;how(){{}@mul(812,458)how()(,:)))~mul(256,397)#]from() &gt;?where()[~mul(132,458)/&lt;[mul(441,730),&amp;+mul(410,879)@@select()@$from(424,812)-mul(80,361);(select()$!:?mul(3,489)(mul(692,445)-?:[;/@mul(630,252)-&lt;:~how()%:mul(755,275);}&lt;who(97,679)]mul(528,294)^/when()where(){!+select()why()mul(540,523)/+&gt;why()*]who()$&#39;what()mul(404,857))}when()}:mul(795,571)}?&#39;&lt;how()~mul(158,220)mul(763,816);#&amp;+select()do()(mul(872,912)from()mul(459,72)mul(185,530)@@#mul(114,891)[mul(746,254)]who()@}  where()select()? mul(232,873)&#39;@mul(365,668))where()&#39;mul(511,416) ^+}[]select()!mul(914,595){&gt;?what()&amp;&gt;who(709,757),[mul(85,479)[^ /mul(12,677)mulwho()&lt;mul(280,994)where()]};-mul(881,791;&#39;%#]select()mul(882,540)/[how()^mul(830,639){@;[~mul(278,495&#39;?^(}mul(45,101)mul(242,987)@mul(534,500)what()$]{:,!%-&#39;mul(130,566)@@%~mul(305,194)from()!;,]&lt;)$mul(386,814)%)when()^^[select()};mul(248,686)what()(}what(){^do()]-&#39;mul(738,398)when()-]%mul(263,840)(when()*~)^)mul(814,32),,&lt;^&amp;&gt;;@]why()mul(507,433)how()%;{mul(703,269)@&#39;from()&amp;}mul(195,324%where()mul(333,588)who(210,905)@{how()-why()don&#39;t()&#39;,~^who()mul(976,376) ;mul(617,616)+don&#39;t()~how()^/},#&amp;how()~mul(464,668)&gt;(%$from()&gt;what()mul(330,462)don&#39;t(),$]~mul(47,160)select()&#39;-&lt;}^what()mul(813,866)@mul(932,649)from()how()when(){]^^$where()mul(298,181)  ^ &#39;!*:mul(395,824);&gt;&gt;@-&gt;!%mul(169,544)when()what(165,141)]$&#39;,&gt;?$mul(677,950)+&lt;#[select(680,459)mul(104,437)how(){mul(238,478))+#:(~where()~mul(990,466)&lt;~#mul(67,165)where(103,910)@(when()^*~,when()&#39;mul(820,708)]}&amp;when()?%#/mul(489,883)[{ {&lt;select()mul(369,476)$&lt;&amp;&amp;mul(171,711)?!!@)mul(118,212)&gt;^where()mul(278,843[mul(865,505)+&#39;why())mul(545,55)(:{+&lt;mul(279,179)&#39;#mul(396,191)}when())#[%mul(117,91)]~,~-mul(581,752)[$&lt;-&#39;mul(765,81)why()$}from()/{&#39;mul(37,389){# #mul(249{[when(785,173)mul(249,933)&lt;how()?mul(110,134) mul(799,655),mul(295,401)mul(703,330)@&amp;}):^ %mul(457,121)((mul&#39;select()-{]&amp;%/mul(236,202)$[)select()!}&gt;mul(248,445)?mul(391,995&gt;#-,*%^ mul(354,732)!/mul(619who()^*[,~[~&gt;$why()mul(723,806)who()from()[why()?$&gt;&amp;mul(721,363)&gt;what()how()]^+mul(301,140)^~:~who()mul(469,571)~mulwhy()from()+&#39;&lt;&#39;don&#39;t()&amp;&lt;where()~;,&gt;&lt;~mul(219,408))^mul(215,767)-]mul(519,445)mul(907,35)what()-!^why()what()-how()select()mul(742,645)mul(213,651)&amp;+when()mul(942,859)^*from()mul(871,479)&lt;^mul(88,805)mul(397,727-([*select()what()what()select()$/+mul(24,343),@from()mul(594,62)+&lt;mul(61,432)@!(~how(),:] mul(353,968)?how()$&amp;+mul(591,184)#{);[who(982,47)%mul(95,398) +&gt;[&#39;from()&lt;mul(198,998)?;,*]]&gt;#mul(807,849)~%+*}mul(552,461)]from()@!@#select()who()^~don&#39;t()?;]mul(201,836)&amp;+&amp;&gt;mul(741,810)\n",
       "mul(695,640)[mul(908,779)+/mul(78,761)[+?};*{mul(105,818) [from()-mul(451,768)what()]!what()from()what()when()~^mul(619,244)[from();,&amp;from()where()from()^?mul(899,374)when()#^:/mul(541,467)/mul(692,925)why()how()what()&gt;/:&lt;mul(532,861)[?select()%mul&gt;^mul(463,858)&lt;why()#)?&lt;^from()-mul&lt;do()&#39;&lt;from()%&lt;what()$&amp;mul(510select()how()select(370,782)when()what()-[:mul(150,223)where()!mul(999,372)&lt;;}*mul(43,815)when(642,18)^({who()&amp;}*mul(200,902select()^[( ^who()mul(547,387)what(632,584)&lt;mul(464,280)!+~mul(337,538)from(858,497)from()mul(116,978)@select(),mul(174,116)~(,;]when()mul(177,316)mul(313,712)!who()^:,mul(288,39))(+[;%%do()$)@-:&lt;(mul(404,923))),do()!)/-$&#39;@mul(662,630)?(what()why()when()mul(825,112)~*!,mul(631,707)/why()&lt;^@,do()^-what();:}why()from()*when()mul(637,832)&lt;?where()why()^how()+&#39;mul(583,659)%} mul(251,47)&lt;?mul(271,563)*{mul#+&lt;&#39;mul(690,953):[)&gt;how()where()^:[~mul(31,347)?&lt;})*&gt;!/mul(627,404)do(),?^$when() mul(24,930)mul(873,35)select()what()where()/don&#39;t()&amp;&amp; [mul(248,460)&amp;where()from(45,338)*?mul(16,424)&#39;}mul(9,674)&lt;}select()$@mul(985[mul(441,498)]&lt;who() ]mul(725,72)&gt;what()@&#39;/{mul(626,540)[;/%,mul(764,748)mul(867,602)why()who()what()mul(885,438)who() ]-{&#39;~/&gt;mul(668,937)&amp;(mul(973,416)when()&lt;why()mul(581,734why()&lt;do()&#39;[#(/;;select()how()}mul(333,76) }(who()]?what()mul(790,234){mul(761,575)who() ;!#@]where()mul(404,574);mul(307,239)mul(37;!/from()%who()mul(578,186)mul(399,705)%$select(237,775)from() what()&amp;)where()mul(834,844))where()-&lt;where() &gt;mul(647,557)~&lt;select()^:[],from()where(864,206)mul(550,551)&#39;mul(763,930)what()^{-how():mul(579,304))how()!*@mul(126,394)mul(123,990)[mul(363,828)&amp; @&#39;when()mul(66,810)mul(238,58)?mul(615,798)who()@*~&amp;~]mul(450,877)}/*do()&gt;how() {+?@mul(485,856)how()select()when()/select()mul(33,198){!mul(382,685))why()!*mul(711,362)&lt;*what()mul(645,252)from(479,19)where()who()mul(561,165)?&gt;$*?:mul:#mul(877,920)#:-mul(440,17)how()&gt;![,@+]mul(151,701)}^[$*mul(353,641){^$+&gt;~%{;}mul(39,274)*mul(657,123)how()*where(){mul(346,442)mul(790,227)?when()&gt;when()(!%mul(60,33)&amp;/$where()}$-&lt;:{mul(930,295)%from()how()@$from();who();mul(494,10 #mul(700,474){^mul(552,224)~&#39;how()select()%}mul(5,285)mul(833,131?%&gt;/from()mul(457,368)^&#39;&gt;%&gt;mul(233,98)[&#39; &lt;^mul(312,497)mul(933,575)who(){mul(859,323)-mul(484,721){where(445,310)),&gt;}!;,?mul +)*:%?mul(122,560)what()select():+mul(749,209)mul(478,283)&amp;#mul(67,742)@^mul(494,481)&amp;%from()&#39;:!/&amp;:why()mul(768,612)where(),:]$mul(512,595)mul(658,426)what()+&gt;)where()%&amp;mul(213,517)+&lt;where()!)mul(665,992)$where()&gt;+what())what():who()mul(891,196)@when()why()mul(46,798)@)select()[how()mul+from()select()mul(128,259)when()/select()when()-*):}mul(115,723)select()@where() mul(235,95)mul(507,424)why()] !mul(680,738)/&lt;mul(634,100)mul(569,333)where()%]why()];[$mul(185,17)^}%&gt;&lt;&amp;$)&gt;mul(349%]how()mul(719,909)when()%*mul(27,357)mul(734,373)/{&gt;%;[$!mul(733&lt;what()]&lt;mul(233,784)mul(252,863) mul(741,457)when()&gt;)why()&amp;mul(938,12)\n",
       "from()#,why()~&amp; ;#:mul(731,521)*how()} do()mul(399,167)from()mul(71,499)how()from()%!who():;mul(730,287)why()mul(422,401)select();@+[-mul(742,851)&lt; ^$why()mul(153,315)+%mul(206,613): ,from()[~select()mul(971,155)[%*:&amp;{mul(239,834)&#39;#:{&#39;~$;mul(224; mul(163,711)$$/!select()^%do()&amp;where()&gt;@*from()select(719,23)#:&lt;mul(859,6){where()why()mul(611,142)[&gt;,how()&gt;from()mul(874,522)&#39;what()!from()*select()mul(950,277),&lt;@-!*mul(35,822)&gt;)~*mul(934,771) #mul(752,754)how()-from()+who());]:&lt;mul(110,865)from()why()@)*where()when()mul(804,930)-mul(948,779),# when(907,369)mul(650,833)&lt;&amp;-(!^^+mul(986,368)}~&#39;{!mul(549,524)[-&gt;where()/select(297,243)!%+mul(603,67)#]}what()mul(486,614)mul(761,335)! %:[;from()^when()mul(162,639)(({;%) mul(410,831)mul(74,9) [),}!!+?&amp;mul(365,386)?do()&amp;from()who(486,875)why()mul(545,922)*mul(333,104)where()do()~$^who(),[;mul(357,374)$}what()/from()^when()}/mul(828,346)mul(128,556))*{:from()@mul(277,303)#[^-%]how() /mul(817,849):mul(477,520)&amp;$what()}&lt;{]#]^mul(263,446):%when()-&amp;how()from()[&amp;&gt;mul(307,210)&lt;mul(779,78)*how()select(447,622)mul(624,455)++&amp;&amp;what()@*#mul(898,875),];/when()mul(463,295)who()select()why()&amp;who()why(795,44)&gt;]!+mul(293,549){when()~mul(478,825)&amp;what()&#39;)%mul(233,939)%]&gt;;&gt;}]mul(680,156);}~mul(66,418)when()/]&#39;? select()mul(506,752) ?select()select()%,}mul(685,266)(from()mul(354,792)~+;when()~#where(){mul(745,146)mul(926,660)%mul(721,86)~?&amp;#?mul(964,815){when()-why()mul(333,175)mul(490,526)when()^mul(370,894)&gt;&amp;who()&#39;^mul(686,63)~[?!%&#39;select(){mul(543,91)@#mul(43,96)where()mul(278,584)~%)where()%mul(163,853)&amp;#when()&#39;mul(561,872)#when()where()&#39;~don&#39;t()mul(896,297)&lt;&#39;&gt;@mul(919,548) who()how()?@+when()]%(mul(691,41)$;+]&amp;who()-**mul(272,776)}what()#why() what()who() when();mul(824,393)-@ %[^,why()do()/mul(891,874)$&#39;&lt;&lt;?select()mul(843,864):%/!what()who()/{%mul(262,169)&amp;:[mul(189,651)how()[from():,{?mul(453,774)(+how()]~-{:(&amp;do()mul(600,585)/#don&#39;t()%*&#39;]]%-:)mul(538,508)where(508,481)how()where()*what(767,256)/mul(254,549),}@^?&#39;/:^mul(664,632)$ ;:when()where()what(655,337)%;~mul(343,605)where()don&#39;t()from()%{what()mul(967,749)mul(982,465)!who(),mul(320,945)mul(769,926)/-)&lt;]who() mul(26,66){who()]{}!mul(122,617):$[??when(),-why()select()mul(125,904)select()::[*mul(420,593)?&amp;&amp;*select()}where()@mul(810,984)&#39;mul(789,703);$mul(228,679)?&gt;!&amp;@** )mul(437,39):]&#39;mul(255,961)!what()!mul(22,237)~mul(287,360)select()how()what()}^mul(153,348){when()&amp;)}{/{mul(8,764)how()@}mul(231,703)why()&gt;%~!when() ^mul(418,457)select()how():?who()$when()when()mul(957,951){&#39;where()&#39;mul(6,320)~mul(168,639)^!mul(715,855)~select()^mul(44,209)&amp;mul(767,449)mul(503,357)&lt;mul(821,550)+&lt;;from():%how()mul(76,386)}&lt;how()@/when()mul(753,291)]how()&amp;)from()?&amp;what()&amp;why()mul(956,734)mul(206,478)!how()how()&gt;^where(),]select();mul(571,436)]-select()select()&amp;</code>\n",
       "    \n",
       "    </div>\n",
       "  "
      ]
     },
     "metadata": {},
     "output_type": "display_data"
    }
   ],
   "source": [
    "import Aoc from \"../aoc.ts\";\n",
    "\n",
    "const aoc = await Aoc.load(2024, 3);\n"
   ]
  },
  {
   "cell_type": "code",
   "execution_count": 2,
   "metadata": {},
   "outputs": [
    {
     "data": {
      "text/plain": [
       "[\n",
       "  [Object: null prototype] { i: \u001b[32m\"mul\"\u001b[39m, a: \u001b[32m\"697\"\u001b[39m, b: \u001b[32m\"542\"\u001b[39m },\n",
       "  [Object: null prototype] { i: \u001b[32m\"mul\"\u001b[39m, a: \u001b[32m\"995\"\u001b[39m, b: \u001b[32m\"893\"\u001b[39m },\n",
       "  [Object: null prototype] { i: \u001b[32m\"mul\"\u001b[39m, a: \u001b[32m\"408\"\u001b[39m, b: \u001b[32m\"907\"\u001b[39m },\n",
       "  [Object: null prototype] { i: \u001b[32m\"mul\"\u001b[39m, a: \u001b[32m\"893\"\u001b[39m, b: \u001b[32m\"282\"\u001b[39m },\n",
       "  [Object: null prototype] { i: \u001b[32m\"mul\"\u001b[39m, a: \u001b[32m\"313\"\u001b[39m, b: \u001b[32m\"566\"\u001b[39m },\n",
       "  [Object: null prototype] { i: \u001b[32m\"mul\"\u001b[39m, a: \u001b[32m\"964\"\u001b[39m, b: \u001b[32m\"183\"\u001b[39m },\n",
       "  [Object: null prototype] { i: \u001b[32m\"mul\"\u001b[39m, a: \u001b[32m\"743\"\u001b[39m, b: \u001b[32m\"40\"\u001b[39m },\n",
       "  [Object: null prototype] { i: \u001b[32m\"mul\"\u001b[39m, a: \u001b[32m\"241\"\u001b[39m, b: \u001b[32m\"491\"\u001b[39m },\n",
       "  [Object: null prototype] { i: \u001b[32m\"don't\"\u001b[39m, a: \u001b[90mundefined\u001b[39m, b: \u001b[90mundefined\u001b[39m },\n",
       "  [Object: null prototype] { i: \u001b[32m\"mul\"\u001b[39m, a: \u001b[32m\"35\"\u001b[39m, b: \u001b[32m\"991\"\u001b[39m },\n",
       "  [Object: null prototype] { i: \u001b[32m\"mul\"\u001b[39m, a: \u001b[32m\"699\"\u001b[39m, b: \u001b[32m\"136\"\u001b[39m },\n",
       "  [Object: null prototype] { i: \u001b[32m\"mul\"\u001b[39m, a: \u001b[32m\"970\"\u001b[39m, b: \u001b[32m\"603\"\u001b[39m },\n",
       "  [Object: null prototype] { i: \u001b[32m\"mul\"\u001b[39m, a: \u001b[32m\"200\"\u001b[39m, b: \u001b[32m\"732\"\u001b[39m },\n",
       "  [Object: null prototype] { i: \u001b[32m\"mul\"\u001b[39m, a: \u001b[32m\"967\"\u001b[39m, b: \u001b[32m\"199\"\u001b[39m },\n",
       "  [Object: null prototype] { i: \u001b[32m\"mul\"\u001b[39m, a: \u001b[32m\"521\"\u001b[39m, b: \u001b[32m\"824\"\u001b[39m },\n",
       "  [Object: null prototype] { i: \u001b[32m\"mul\"\u001b[39m, a: \u001b[32m\"473\"\u001b[39m, b: \u001b[32m\"278\"\u001b[39m },\n",
       "  [Object: null prototype] { i: \u001b[32m\"mul\"\u001b[39m, a: \u001b[32m\"347\"\u001b[39m, b: \u001b[32m\"457\"\u001b[39m },\n",
       "  [Object: null prototype] { i: \u001b[32m\"mul\"\u001b[39m, a: \u001b[32m\"324\"\u001b[39m, b: \u001b[32m\"773\"\u001b[39m },\n",
       "  [Object: null prototype] { i: \u001b[32m\"mul\"\u001b[39m, a: \u001b[32m\"460\"\u001b[39m, b: \u001b[32m\"152\"\u001b[39m },\n",
       "  [Object: null prototype] { i: \u001b[32m\"mul\"\u001b[39m, a: \u001b[32m\"331\"\u001b[39m, b: \u001b[32m\"186\"\u001b[39m },\n",
       "  [Object: null prototype] { i: \u001b[32m\"don't\"\u001b[39m, a: \u001b[90mundefined\u001b[39m, b: \u001b[90mundefined\u001b[39m },\n",
       "  [Object: null prototype] { i: \u001b[32m\"mul\"\u001b[39m, a: \u001b[32m\"197\"\u001b[39m, b: \u001b[32m\"390\"\u001b[39m },\n",
       "  [Object: null prototype] { i: \u001b[32m\"mul\"\u001b[39m, a: \u001b[32m\"774\"\u001b[39m, b: \u001b[32m\"494\"\u001b[39m },\n",
       "  [Object: null prototype] { i: \u001b[32m\"mul\"\u001b[39m, a: \u001b[32m\"758\"\u001b[39m, b: \u001b[32m\"549\"\u001b[39m },\n",
       "  [Object: null prototype] { i: \u001b[32m\"mul\"\u001b[39m, a: \u001b[32m\"485\"\u001b[39m, b: \u001b[32m\"656\"\u001b[39m },\n",
       "  [Object: null prototype] { i: \u001b[32m\"mul\"\u001b[39m, a: \u001b[32m\"938\"\u001b[39m, b: \u001b[32m\"190\"\u001b[39m },\n",
       "  [Object: null prototype] { i: \u001b[32m\"mul\"\u001b[39m, a: \u001b[32m\"326\"\u001b[39m, b: \u001b[32m\"51\"\u001b[39m },\n",
       "  [Object: null prototype] { i: \u001b[32m\"mul\"\u001b[39m, a: \u001b[32m\"304\"\u001b[39m, b: \u001b[32m\"567\"\u001b[39m },\n",
       "  [Object: null prototype] { i: \u001b[32m\"mul\"\u001b[39m, a: \u001b[32m\"165\"\u001b[39m, b: \u001b[32m\"576\"\u001b[39m },\n",
       "  [Object: null prototype] { i: \u001b[32m\"mul\"\u001b[39m, a: \u001b[32m\"906\"\u001b[39m, b: \u001b[32m\"352\"\u001b[39m },\n",
       "  [Object: null prototype] { i: \u001b[32m\"mul\"\u001b[39m, a: \u001b[32m\"508\"\u001b[39m, b: \u001b[32m\"347\"\u001b[39m },\n",
       "  [Object: null prototype] { i: \u001b[32m\"mul\"\u001b[39m, a: \u001b[32m\"793\"\u001b[39m, b: \u001b[32m\"679\"\u001b[39m },\n",
       "  [Object: null prototype] { i: \u001b[32m\"don't\"\u001b[39m, a: \u001b[90mundefined\u001b[39m, b: \u001b[90mundefined\u001b[39m },\n",
       "  [Object: null prototype] { i: \u001b[32m\"mul\"\u001b[39m, a: \u001b[32m\"38\"\u001b[39m, b: \u001b[32m\"430\"\u001b[39m },\n",
       "  [Object: null prototype] { i: \u001b[32m\"mul\"\u001b[39m, a: \u001b[32m\"611\"\u001b[39m, b: \u001b[32m\"673\"\u001b[39m },\n",
       "  [Object: null prototype] { i: \u001b[32m\"mul\"\u001b[39m, a: \u001b[32m\"339\"\u001b[39m, b: \u001b[32m\"558\"\u001b[39m },\n",
       "  [Object: null prototype] { i: \u001b[32m\"mul\"\u001b[39m, a: \u001b[32m\"716\"\u001b[39m, b: \u001b[32m\"978\"\u001b[39m },\n",
       "  [Object: null prototype] { i: \u001b[32m\"mul\"\u001b[39m, a: \u001b[32m\"847\"\u001b[39m, b: \u001b[32m\"535\"\u001b[39m },\n",
       "  [Object: null prototype] { i: \u001b[32m\"do\"\u001b[39m, a: \u001b[90mundefined\u001b[39m, b: \u001b[90mundefined\u001b[39m },\n",
       "  [Object: null prototype] { i: \u001b[32m\"mul\"\u001b[39m, a: \u001b[32m\"242\"\u001b[39m, b: \u001b[32m\"61\"\u001b[39m },\n",
       "  [Object: null prototype] { i: \u001b[32m\"mul\"\u001b[39m, a: \u001b[32m\"371\"\u001b[39m, b: \u001b[32m\"193\"\u001b[39m },\n",
       "  [Object: null prototype] { i: \u001b[32m\"mul\"\u001b[39m, a: \u001b[32m\"173\"\u001b[39m, b: \u001b[32m\"850\"\u001b[39m },\n",
       "  [Object: null prototype] { i: \u001b[32m\"mul\"\u001b[39m, a: \u001b[32m\"566\"\u001b[39m, b: \u001b[32m\"907\"\u001b[39m },\n",
       "  [Object: null prototype] { i: \u001b[32m\"don't\"\u001b[39m, a: \u001b[90mundefined\u001b[39m, b: \u001b[90mundefined\u001b[39m },\n",
       "  [Object: null prototype] { i: \u001b[32m\"mul\"\u001b[39m, a: \u001b[32m\"412\"\u001b[39m, b: \u001b[32m\"399\"\u001b[39m },\n",
       "  [Object: null prototype] { i: \u001b[32m\"mul\"\u001b[39m, a: \u001b[32m\"905\"\u001b[39m, b: \u001b[32m\"46\"\u001b[39m },\n",
       "  [Object: null prototype] { i: \u001b[32m\"mul\"\u001b[39m, a: \u001b[32m\"920\"\u001b[39m, b: \u001b[32m\"500\"\u001b[39m },\n",
       "  [Object: null prototype] { i: \u001b[32m\"don't\"\u001b[39m, a: \u001b[90mundefined\u001b[39m, b: \u001b[90mundefined\u001b[39m },\n",
       "  [Object: null prototype] { i: \u001b[32m\"mul\"\u001b[39m, a: \u001b[32m\"927\"\u001b[39m, b: \u001b[32m\"865\"\u001b[39m },\n",
       "  [Object: null prototype] { i: \u001b[32m\"mul\"\u001b[39m, a: \u001b[32m\"371\"\u001b[39m, b: \u001b[32m\"913\"\u001b[39m },\n",
       "  [Object: null prototype] { i: \u001b[32m\"mul\"\u001b[39m, a: \u001b[32m\"254\"\u001b[39m, b: \u001b[32m\"979\"\u001b[39m },\n",
       "  [Object: null prototype] { i: \u001b[32m\"mul\"\u001b[39m, a: \u001b[32m\"614\"\u001b[39m, b: \u001b[32m\"684\"\u001b[39m },\n",
       "  [Object: null prototype] { i: \u001b[32m\"mul\"\u001b[39m, a: \u001b[32m\"841\"\u001b[39m, b: \u001b[32m\"422\"\u001b[39m },\n",
       "  [Object: null prototype] { i: \u001b[32m\"mul\"\u001b[39m, a: \u001b[32m\"292\"\u001b[39m, b: \u001b[32m\"172\"\u001b[39m },\n",
       "  [Object: null prototype] { i: \u001b[32m\"mul\"\u001b[39m, a: \u001b[32m\"668\"\u001b[39m, b: \u001b[32m\"298\"\u001b[39m },\n",
       "  [Object: null prototype] { i: \u001b[32m\"mul\"\u001b[39m, a: \u001b[32m\"788\"\u001b[39m, b: \u001b[32m\"698\"\u001b[39m },\n",
       "  [Object: null prototype] { i: \u001b[32m\"mul\"\u001b[39m, a: \u001b[32m\"241\"\u001b[39m, b: \u001b[32m\"230\"\u001b[39m },\n",
       "  [Object: null prototype] { i: \u001b[32m\"mul\"\u001b[39m, a: \u001b[32m\"513\"\u001b[39m, b: \u001b[32m\"152\"\u001b[39m },\n",
       "  [Object: null prototype] { i: \u001b[32m\"mul\"\u001b[39m, a: \u001b[32m\"762\"\u001b[39m, b: \u001b[32m\"255\"\u001b[39m },\n",
       "  [Object: null prototype] { i: \u001b[32m\"mul\"\u001b[39m, a: \u001b[32m\"199\"\u001b[39m, b: \u001b[32m\"330\"\u001b[39m },\n",
       "  [Object: null prototype] { i: \u001b[32m\"mul\"\u001b[39m, a: \u001b[32m\"716\"\u001b[39m, b: \u001b[32m\"272\"\u001b[39m },\n",
       "  [Object: null prototype] { i: \u001b[32m\"mul\"\u001b[39m, a: \u001b[32m\"181\"\u001b[39m, b: \u001b[32m\"411\"\u001b[39m },\n",
       "  [Object: null prototype] { i: \u001b[32m\"mul\"\u001b[39m, a: \u001b[32m\"830\"\u001b[39m, b: \u001b[32m\"669\"\u001b[39m },\n",
       "  [Object: null prototype] { i: \u001b[32m\"mul\"\u001b[39m, a: \u001b[32m\"490\"\u001b[39m, b: \u001b[32m\"309\"\u001b[39m },\n",
       "  [Object: null prototype] { i: \u001b[32m\"mul\"\u001b[39m, a: \u001b[32m\"597\"\u001b[39m, b: \u001b[32m\"806\"\u001b[39m },\n",
       "  [Object: null prototype] { i: \u001b[32m\"mul\"\u001b[39m, a: \u001b[32m\"911\"\u001b[39m, b: \u001b[32m\"931\"\u001b[39m },\n",
       "  [Object: null prototype] { i: \u001b[32m\"mul\"\u001b[39m, a: \u001b[32m\"877\"\u001b[39m, b: \u001b[32m\"212\"\u001b[39m },\n",
       "  [Object: null prototype] { i: \u001b[32m\"mul\"\u001b[39m, a: \u001b[32m\"242\"\u001b[39m, b: \u001b[32m\"138\"\u001b[39m },\n",
       "  [Object: null prototype] { i: \u001b[32m\"mul\"\u001b[39m, a: \u001b[32m\"624\"\u001b[39m, b: \u001b[32m\"989\"\u001b[39m },\n",
       "  [Object: null prototype] { i: \u001b[32m\"mul\"\u001b[39m, a: \u001b[32m\"232\"\u001b[39m, b: \u001b[32m\"970\"\u001b[39m },\n",
       "  [Object: null prototype] { i: \u001b[32m\"mul\"\u001b[39m, a: \u001b[32m\"749\"\u001b[39m, b: \u001b[32m\"304\"\u001b[39m },\n",
       "  [Object: null prototype] { i: \u001b[32m\"mul\"\u001b[39m, a: \u001b[32m\"499\"\u001b[39m, b: \u001b[32m\"106\"\u001b[39m },\n",
       "  [Object: null prototype] { i: \u001b[32m\"don't\"\u001b[39m, a: \u001b[90mundefined\u001b[39m, b: \u001b[90mundefined\u001b[39m },\n",
       "  [Object: null prototype] { i: \u001b[32m\"mul\"\u001b[39m, a: \u001b[32m\"666\"\u001b[39m, b: \u001b[32m\"746\"\u001b[39m },\n",
       "  [Object: null prototype] { i: \u001b[32m\"do\"\u001b[39m, a: \u001b[90mundefined\u001b[39m, b: \u001b[90mundefined\u001b[39m },\n",
       "  [Object: null prototype] { i: \u001b[32m\"mul\"\u001b[39m, a: \u001b[32m\"436\"\u001b[39m, b: \u001b[32m\"226\"\u001b[39m },\n",
       "  [Object: null prototype] { i: \u001b[32m\"mul\"\u001b[39m, a: \u001b[32m\"333\"\u001b[39m, b: \u001b[32m\"877\"\u001b[39m },\n",
       "  [Object: null prototype] { i: \u001b[32m\"mul\"\u001b[39m, a: \u001b[32m\"849\"\u001b[39m, b: \u001b[32m\"387\"\u001b[39m },\n",
       "  [Object: null prototype] { i: \u001b[32m\"mul\"\u001b[39m, a: \u001b[32m\"846\"\u001b[39m, b: \u001b[32m\"509\"\u001b[39m },\n",
       "  [Object: null prototype] { i: \u001b[32m\"mul\"\u001b[39m, a: \u001b[32m\"690\"\u001b[39m, b: \u001b[32m\"845\"\u001b[39m },\n",
       "  [Object: null prototype] { i: \u001b[32m\"mul\"\u001b[39m, a: \u001b[32m\"671\"\u001b[39m, b: \u001b[32m\"693\"\u001b[39m },\n",
       "  [Object: null prototype] { i: \u001b[32m\"mul\"\u001b[39m, a: \u001b[32m\"151\"\u001b[39m, b: \u001b[32m\"226\"\u001b[39m },\n",
       "  [Object: null prototype] { i: \u001b[32m\"mul\"\u001b[39m, a: \u001b[32m\"662\"\u001b[39m, b: \u001b[32m\"390\"\u001b[39m },\n",
       "  [Object: null prototype] { i: \u001b[32m\"don't\"\u001b[39m, a: \u001b[90mundefined\u001b[39m, b: \u001b[90mundefined\u001b[39m },\n",
       "  [Object: null prototype] { i: \u001b[32m\"mul\"\u001b[39m, a: \u001b[32m\"586\"\u001b[39m, b: \u001b[32m\"859\"\u001b[39m },\n",
       "  [Object: null prototype] { i: \u001b[32m\"mul\"\u001b[39m, a: \u001b[32m\"162\"\u001b[39m, b: \u001b[32m\"392\"\u001b[39m },\n",
       "  [Object: null prototype] { i: \u001b[32m\"don't\"\u001b[39m, a: \u001b[90mundefined\u001b[39m, b: \u001b[90mundefined\u001b[39m },\n",
       "  [Object: null prototype] { i: \u001b[32m\"mul\"\u001b[39m, a: \u001b[32m\"235\"\u001b[39m, b: \u001b[32m\"965\"\u001b[39m },\n",
       "  [Object: null prototype] { i: \u001b[32m\"mul\"\u001b[39m, a: \u001b[32m\"836\"\u001b[39m, b: \u001b[32m\"254\"\u001b[39m },\n",
       "  [Object: null prototype] { i: \u001b[32m\"mul\"\u001b[39m, a: \u001b[32m\"81\"\u001b[39m, b: \u001b[32m\"63\"\u001b[39m },\n",
       "  [Object: null prototype] { i: \u001b[32m\"don't\"\u001b[39m, a: \u001b[90mundefined\u001b[39m, b: \u001b[90mundefined\u001b[39m },\n",
       "  [Object: null prototype] { i: \u001b[32m\"mul\"\u001b[39m, a: \u001b[32m\"148\"\u001b[39m, b: \u001b[32m\"501\"\u001b[39m },\n",
       "  [Object: null prototype] { i: \u001b[32m\"don't\"\u001b[39m, a: \u001b[90mundefined\u001b[39m, b: \u001b[90mundefined\u001b[39m },\n",
       "  [Object: null prototype] { i: \u001b[32m\"mul\"\u001b[39m, a: \u001b[32m\"565\"\u001b[39m, b: \u001b[32m\"716\"\u001b[39m },\n",
       "  [Object: null prototype] { i: \u001b[32m\"mul\"\u001b[39m, a: \u001b[32m\"812\"\u001b[39m, b: \u001b[32m\"235\"\u001b[39m },\n",
       "  [Object: null prototype] { i: \u001b[32m\"do\"\u001b[39m, a: \u001b[90mundefined\u001b[39m, b: \u001b[90mundefined\u001b[39m },\n",
       "  [Object: null prototype] { i: \u001b[32m\"mul\"\u001b[39m, a: \u001b[32m\"933\"\u001b[39m, b: \u001b[32m\"530\"\u001b[39m },\n",
       "  [Object: null prototype] { i: \u001b[32m\"mul\"\u001b[39m, a: \u001b[32m\"685\"\u001b[39m, b: \u001b[32m\"485\"\u001b[39m },\n",
       "  [Object: null prototype] { i: \u001b[32m\"mul\"\u001b[39m, a: \u001b[32m\"372\"\u001b[39m, b: \u001b[32m\"990\"\u001b[39m },\n",
       "  [Object: null prototype] { i: \u001b[32m\"mul\"\u001b[39m, a: \u001b[32m\"780\"\u001b[39m, b: \u001b[32m\"194\"\u001b[39m },\n",
       "  ... 655 more items\n",
       "]"
      ]
     },
     "execution_count": 2,
     "metadata": {},
     "output_type": "execute_result"
    }
   ],
   "source": [
    "// let input = `xmul(2,4)%&mul[3,7]!@^do_not_mul(5,5)+mul(32,64]then(mul(11,8)mul(8,5))`;\n",
    "let input = `xmul(2,4)&mul[3,7]!^don't()_mul(5,5)+mul(32,64](mul(11,8)undo()?mul(8,5));`;\n",
    "input = aoc.input;\n",
    "\n",
    "const parsed = input.match(/((mul)|(do)|(don't))\\(((?<a>\\d+),(?<b>\\d+))?\\)/g);\n",
    "const parsed2 = parsed?.map(\n",
    "  (m) => m.match(/(?<i>[^(]+)\\(((?<a>\\d+),(?<b>\\d+))?/)?.groups\n",
    ");\n",
    "\n",
    "parsed2;\n"
   ]
  },
  {
   "cell_type": "code",
   "execution_count": 4,
   "metadata": {},
   "outputs": [
    {
     "data": {
      "text/plain": [
       "\u001b[33m170068701\u001b[39m"
      ]
     },
     "execution_count": 4,
     "metadata": {},
     "output_type": "execute_result"
    }
   ],
   "source": [
    "let result = 0;\n",
    "for (const { i, a, b } of parsed2) {\n",
    "  switch (i) {\n",
    "    case \"mul\":\n",
    "      result += Number(a) * Number(b);\n",
    "      break;\n",
    "  }\n",
    "}\n",
    "\n",
    "const answer1 = result;\n",
    "result;\n"
   ]
  },
  {
   "cell_type": "code",
   "execution_count": 5,
   "metadata": {},
   "outputs": [
    {
     "name": "stdout",
     "output_type": "stream",
     "text": [
      "✅ Part 1 answer 170068701\n"
     ]
    },
    {
     "data": {
      "text/html": [
       "\n",
       "    <div>\n",
       "      <style scoped>\n",
       "        * {\n",
       "          font-family: courier;\n",
       "          font-size: 1.1em;\n",
       "        }\n",
       "      </style>\n",
       "      <h2 id=\"part2\">--- Part Two ---</h2><p>As you scan through the corrupted memory, you notice that some of the conditional statements are also still intact. If you handle some of the uncorrupted conditional statements in the program, you might be able to get an even more accurate result.</p>\n",
       "<p>There are two new instructions you'll need to handle:</p>\n",
       "<ul>\n",
       "<li>The <code>do()</code> instruction <em>enables</em> future <code>mul</code> instructions.</li>\n",
       "<li>The <code>don't()</code> instruction <em>disables</em> future <code>mul</code> instructions.</li>\n",
       "</ul>\n",
       "<p>Only the <em>most recent</em> <code>do()</code> or <code>don't()</code> instruction applies. At the beginning of the program, <code>mul</code> instructions are <em>enabled</em>.</p>\n",
       "<p>For example:</p>\n",
       "<pre><code>x<em>mul(2,4)</em>&amp;mul[3,7]!^<em>don't()</em>_mul(5,5)+mul(32,64](mul(11,8)un<em>do()</em>?<em>mul(8,5)</em>)</code></pre>\n",
       "<p>This corrupted memory is similar to the example from before, but this time the <code>mul(5,5)</code> and <code>mul(11,8)</code> instructions are <em>disabled</em> because there is a <code>don't()</code> instruction before them. The other <code>mul</code> instructions function normally, including the one at the end that gets re-<em>enabled</em> by a <code>do()</code> instruction.</p>\n",
       "<p>This time, the sum of the results is <code><em>48</em></code> (<code>2*4 + 8*5</code>).</p>\n",
       "<p>Handle the new instructions; <em>what do you get if you add up all of the results of just the enabled multiplications?</em></p>\n",
       "\n",
       "    </div>\n",
       "  "
      ]
     },
     "metadata": {},
     "output_type": "display_data"
    },
    {
     "data": {
      "text/plain": [
       "\u001b[33mtrue\u001b[39m"
      ]
     },
     "execution_count": 5,
     "metadata": {},
     "output_type": "execute_result"
    }
   ],
   "source": [
    "await aoc.answer1(answer1);\n"
   ]
  },
  {
   "cell_type": "code",
   "execution_count": 6,
   "metadata": {},
   "outputs": [
    {
     "data": {
      "text/plain": [
       "\u001b[33m78683433\u001b[39m"
      ]
     },
     "execution_count": 6,
     "metadata": {},
     "output_type": "execute_result"
    }
   ],
   "source": [
    "let enabled = true;\n",
    "let result = 0;\n",
    "for (const { i, a, b } of parsed2) {\n",
    "  switch (i) {\n",
    "    case \"mul\":\n",
    "      if (enabled) {\n",
    "        result += Number(a) * Number(b);\n",
    "      }\n",
    "      break;\n",
    "    case \"do\":\n",
    "      enabled = true;\n",
    "      break;\n",
    "    case \"don't\":\n",
    "      enabled = false;\n",
    "      break;\n",
    "  }\n",
    "}\n",
    "\n",
    "const answer2 = result;\n",
    "result;\n"
   ]
  },
  {
   "cell_type": "code",
   "execution_count": 7,
   "metadata": {},
   "outputs": [
    {
     "name": "stdout",
     "output_type": "stream",
     "text": [
      "✅ Part 2 answer 78683433\n"
     ]
    },
    {
     "data": {
      "text/plain": [
       "\u001b[33mtrue\u001b[39m"
      ]
     },
     "execution_count": 7,
     "metadata": {},
     "output_type": "execute_result"
    }
   ],
   "source": [
    "await aoc.answer2(answer2);\n"
   ]
  }
 ],
 "metadata": {
  "kernelspec": {
   "display_name": "Deno",
   "language": "typescript",
   "name": "deno"
  },
  "language_info": {
   "codemirror_mode": "typescript",
   "file_extension": ".ts",
   "mimetype": "text/x.typescript",
   "name": "typescript",
   "nbconvert_exporter": "script",
   "pygments_lexer": "typescript",
   "version": "5.6.2"
  }
 },
 "nbformat": 4,
 "nbformat_minor": 2
}
