{
 "cells": [
  {
   "cell_type": "code",
   "execution_count": 1,
   "metadata": {},
   "outputs": [
    {
     "data": {
      "text/html": [
       "\n",
       "    <style>\n",
       "      * {\n",
       "        font-family: courier;\n",
       "        font-size: 1.1em;\n",
       "      }\n",
       "      code.input {\n",
       "        display: block;\n",
       "        max-height: 200px;\n",
       "        overflow: auto;\n",
       "        margin-top: 10px;\n",
       "        white-space: pre;\n",
       "      }\n",
       "    </style>\n",
       "    <h2>--- Day 1: No Time for a Taxicab ---</h2><p>Santa's sleigh uses a <span title=\"An atomic clock is too inaccurate; he might end up in a wall!\">very high-precision clock</span> to guide its movements, and the clock's oscillator is regulated by stars. Unfortunately, the stars have been stolen... by the Easter Bunny.  To save Christmas, Santa needs you to retrieve all <em class=\"star\">fifty stars</em> by December 25th.</p>\n",
       "<p>Collect stars by solving puzzles.  Two puzzles will be made available on each day in the Advent calendar; the second puzzle is unlocked when you complete the first.  Each puzzle grants <em class=\"star\">one star</em>. Good luck!</p>\n",
       "<p>You're airdropped near <em>Easter Bunny Headquarters</em> in a city somewhere.  \"Near\", unfortunately, is as close as you can get - the instructions on the Easter Bunny Recruiting Document the Elves intercepted start here, and nobody had time to work them out further.</p>\n",
       "<p>The Document indicates that you should start at the given coordinates (where you just landed) and face North.  Then, follow the provided sequence: either turn left (<code>L</code>) or right (<code>R</code>) 90 degrees, then walk forward the given number of blocks, ending at a new intersection.</p>\n",
       "<p>There's no time to follow such ridiculous instructions on foot, though, so you take a moment and work out the destination.  Given that you can only walk on the <a href=\"https://en.wikipedia.org/wiki/Taxicab_geometry\">street grid of the city</a>, how far is the shortest path to the destination?</p>\n",
       "<p>For example:</p>\n",
       "<ul>\n",
       "<li>Following <code>R2, L3</code> leaves you <code>2</code> blocks East and <code>3</code> blocks North, or <code>5</code> blocks away.</li>\n",
       "<li><code>R2, R2, R2</code> leaves you <code>2</code> blocks due South of your starting position, which is <code>2</code> blocks away.</li>\n",
       "<li><code>R5, L5, R5, R3</code> leaves you <code>12</code> blocks away.</li>\n",
       "</ul>\n",
       "<p><em>How many blocks away</em> is Easter Bunny HQ?</p>\n",
       "\n",
       "  "
      ]
     },
     "metadata": {},
     "output_type": "display_data"
    },
    {
     "data": {
      "text/html": [
       "\n",
       "    <style>\n",
       "      * {\n",
       "        font-family: courier;\n",
       "        font-size: 1.1em;\n",
       "      }\n",
       "      code.input {\n",
       "        display: block;\n",
       "        max-height: 200px;\n",
       "        overflow: auto;\n",
       "        margin-top: 10px;\n",
       "        white-space: pre;\n",
       "      }\n",
       "    </style>\n",
       "    \n",
       "      <p>To begin, here's your puzzle input:</p>\n",
       "      <code class=\"input\">L1, R3, R1, L5, L2, L5, R4, L2, R2, R2, L2, R1, L5, R3, L4, L1, L2, R3, R5, L2, R5, L1, R2, L5, R4, R2, R2, L1, L1, R1, L3, L1, R1, L3, R5, R3, R3, L4, R4, L2, L4, R1, R1, L193, R2, L1, R54, R1, L1, R71, L4, R3, R191, R3, R2, L4, R3, R2, L2, L4, L5, R4, R1, L2, L2, L3, L2, L1, R4, R1, R5, R3, L5, R3, R4, L2, R3, L1, L3, L3, L5, L1, L3, L3, L1, R3, L3, L2, R1, L3, L1, R5, R4, R3, R2, R3, L1, L2, R4, L3, R1, L1, L1, R5, R2, R4, R5, L1, L1, R1, L2, L4, R3, L1, L3, R5, R4, R3, R3, L2, R2, L1, R4, R2, L3, L4, L2, R2, R2, L4, R3, R5, L2, R2, R4, R5, L2, L3, L2, R5, L4, L2, R3, L5, R2, L1, R1, R3, R3, L5, L2, L2, R5</code>\n",
       "    \n",
       "  "
      ]
     },
     "metadata": {},
     "output_type": "display_data"
    }
   ],
   "source": [
    "import Aoc from '../aoc.ts';\n",
    "const aoc = await Aoc.load(2016, 1);"
   ]
  },
  {
   "cell_type": "code",
   "execution_count": 2,
   "metadata": {},
   "outputs": [
    {
     "data": {
      "text/plain": [
       "[\n",
       "  \u001b[32m\"L1\"\u001b[39m, \u001b[32m\"R3\"\u001b[39m,  \u001b[32m\"R1\"\u001b[39m, \u001b[32m\"L5\"\u001b[39m,   \u001b[32m\"L2\"\u001b[39m,   \u001b[32m\"L5\"\u001b[39m, \u001b[32m\"R4\"\u001b[39m,  \u001b[32m\"L2\"\u001b[39m,\n",
       "  \u001b[32m\"R2\"\u001b[39m, \u001b[32m\"R2\"\u001b[39m,  \u001b[32m\"L2\"\u001b[39m, \u001b[32m\"R1\"\u001b[39m,   \u001b[32m\"L5\"\u001b[39m,   \u001b[32m\"R3\"\u001b[39m, \u001b[32m\"L4\"\u001b[39m,  \u001b[32m\"L1\"\u001b[39m,\n",
       "  \u001b[32m\"L2\"\u001b[39m, \u001b[32m\"R3\"\u001b[39m,  \u001b[32m\"R5\"\u001b[39m, \u001b[32m\"L2\"\u001b[39m,   \u001b[32m\"R5\"\u001b[39m,   \u001b[32m\"L1\"\u001b[39m, \u001b[32m\"R2\"\u001b[39m,  \u001b[32m\"L5\"\u001b[39m,\n",
       "  \u001b[32m\"R4\"\u001b[39m, \u001b[32m\"R2\"\u001b[39m,  \u001b[32m\"R2\"\u001b[39m, \u001b[32m\"L1\"\u001b[39m,   \u001b[32m\"L1\"\u001b[39m,   \u001b[32m\"R1\"\u001b[39m, \u001b[32m\"L3\"\u001b[39m,  \u001b[32m\"L1\"\u001b[39m,\n",
       "  \u001b[32m\"R1\"\u001b[39m, \u001b[32m\"L3\"\u001b[39m,  \u001b[32m\"R5\"\u001b[39m, \u001b[32m\"R3\"\u001b[39m,   \u001b[32m\"R3\"\u001b[39m,   \u001b[32m\"L4\"\u001b[39m, \u001b[32m\"R4\"\u001b[39m,  \u001b[32m\"L2\"\u001b[39m,\n",
       "  \u001b[32m\"L4\"\u001b[39m, \u001b[32m\"R1\"\u001b[39m,  \u001b[32m\"R1\"\u001b[39m, \u001b[32m\"L193\"\u001b[39m, \u001b[32m\"R2\"\u001b[39m,   \u001b[32m\"L1\"\u001b[39m, \u001b[32m\"R54\"\u001b[39m, \u001b[32m\"R1\"\u001b[39m,\n",
       "  \u001b[32m\"L1\"\u001b[39m, \u001b[32m\"R71\"\u001b[39m, \u001b[32m\"L4\"\u001b[39m, \u001b[32m\"R3\"\u001b[39m,   \u001b[32m\"R191\"\u001b[39m, \u001b[32m\"R3\"\u001b[39m, \u001b[32m\"R2\"\u001b[39m,  \u001b[32m\"L4\"\u001b[39m,\n",
       "  \u001b[32m\"R3\"\u001b[39m, \u001b[32m\"R2\"\u001b[39m,  \u001b[32m\"L2\"\u001b[39m, \u001b[32m\"L4\"\u001b[39m,   \u001b[32m\"L5\"\u001b[39m,   \u001b[32m\"R4\"\u001b[39m, \u001b[32m\"R1\"\u001b[39m,  \u001b[32m\"L2\"\u001b[39m,\n",
       "  \u001b[32m\"L2\"\u001b[39m, \u001b[32m\"L3\"\u001b[39m,  \u001b[32m\"L2\"\u001b[39m, \u001b[32m\"L1\"\u001b[39m,   \u001b[32m\"R4\"\u001b[39m,   \u001b[32m\"R1\"\u001b[39m, \u001b[32m\"R5\"\u001b[39m,  \u001b[32m\"R3\"\u001b[39m,\n",
       "  \u001b[32m\"L5\"\u001b[39m, \u001b[32m\"R3\"\u001b[39m,  \u001b[32m\"R4\"\u001b[39m, \u001b[32m\"L2\"\u001b[39m,   \u001b[32m\"R3\"\u001b[39m,   \u001b[32m\"L1\"\u001b[39m, \u001b[32m\"L3\"\u001b[39m,  \u001b[32m\"L3\"\u001b[39m,\n",
       "  \u001b[32m\"L5\"\u001b[39m, \u001b[32m\"L1\"\u001b[39m,  \u001b[32m\"L3\"\u001b[39m, \u001b[32m\"L3\"\u001b[39m,   \u001b[32m\"L1\"\u001b[39m,   \u001b[32m\"R3\"\u001b[39m, \u001b[32m\"L3\"\u001b[39m,  \u001b[32m\"L2\"\u001b[39m,\n",
       "  \u001b[32m\"R1\"\u001b[39m, \u001b[32m\"L3\"\u001b[39m,  \u001b[32m\"L1\"\u001b[39m, \u001b[32m\"R5\"\u001b[39m,   \u001b[32m\"R4\"\u001b[39m,   \u001b[32m\"R3\"\u001b[39m, \u001b[32m\"R2\"\u001b[39m,  \u001b[32m\"R3\"\u001b[39m,\n",
       "  \u001b[32m\"L1\"\u001b[39m, \u001b[32m\"L2\"\u001b[39m,  \u001b[32m\"R4\"\u001b[39m, \u001b[32m\"L3\"\u001b[39m,\n",
       "  ... 53 more items\n",
       "]"
      ]
     },
     "execution_count": 2,
     "metadata": {},
     "output_type": "execute_result"
    }
   ],
   "source": [
    "const steps = aoc.input.split(', ');\n",
    "steps"
   ]
  },
  {
   "cell_type": "code",
   "execution_count": 3,
   "metadata": {},
   "outputs": [
    {
     "name": "stdout",
     "output_type": "stream",
     "text": [
      "✅ Part 1 answer 278\n"
     ]
    },
    {
     "data": {
      "text/html": [
       "\n",
       "    <style>\n",
       "      * {\n",
       "        font-family: courier;\n",
       "        font-size: 1.1em;\n",
       "      }\n",
       "      code.input {\n",
       "        display: block;\n",
       "        max-height: 200px;\n",
       "        overflow: auto;\n",
       "        margin-top: 10px;\n",
       "        white-space: pre;\n",
       "      }\n",
       "    </style>\n",
       "    <h2 id=\"part2\">--- Part Two ---</h2><p>Then, you notice the instructions continue on the back of the Recruiting Document.  Easter Bunny HQ is actually at the first location you visit twice.</p>\n",
       "<p>For example, if your instructions are <code>R8, R4, R4, R8</code>, the first location you visit twice is <code>4</code> blocks away, due East.</p>\n",
       "<p>How many blocks away is the <em>first location you visit twice</em>?</p>\n",
       "\n",
       "  "
      ]
     },
     "metadata": {},
     "output_type": "display_data"
    },
    {
     "name": "stdout",
     "output_type": "stream",
     "text": [
      "✅ Part 2 answer 161\n"
     ]
    },
    {
     "data": {
      "text/plain": [
       "\u001b[33mtrue\u001b[39m"
      ]
     },
     "execution_count": 3,
     "metadata": {},
     "output_type": "execute_result"
    }
   ],
   "source": [
    "const dirs = ['N', 'E', 'S', 'W'];\n",
    "let d='N', x=0, y=0;\n",
    "const change = {\n",
    "    N: [0, 1],\n",
    "    E: [1, 0],\n",
    "    S: [0, -1],\n",
    "    W: [-1, 0],\n",
    "};\n",
    "const seen: Record<string, boolean> = {};\n",
    "let distance: number;\n",
    "let answer2: number | undefined;\n",
    "for (const step of steps) {\n",
    "  const dir = step[0];\n",
    "  const len = parseInt(step.slice(1));\n",
    "  d = dirs[(dirs.indexOf(d) + (dir === 'R' ? 1 : 3)) % 4];\n",
    "  const dx = change[d][0];\n",
    "  const dy = change[d][1];\n",
    "  const lx = Math.abs(dx) * len;\n",
    "  const ly = Math.abs(dy) * len;\n",
    "  function move(dx: number, dy: number) {\n",
    "    x += dx;\n",
    "    y += dy;\n",
    "    const key = `${x},${y}`;\n",
    "    if (key in seen && typeof answer2 === 'undefined') {\n",
    "      answer2 = Math.abs(x) + Math.abs(y);\n",
    "    }\n",
    "    seen[key] = true;\n",
    "  }\n",
    "  for (let i=0; i<lx; i++) move(dx, 0);\n",
    "  for (let i=0; i<ly; i++) move(0, dy);\n",
    "  distance = Math.abs(x) + Math.abs(y);\n",
    "}\n",
    "\n",
    "if (await aoc.answer1(distance)) {\n",
    "  await aoc.answer2(answer2);\n",
    "} else {\n",
    "  console.log('skipping submitting answer2:', answer2);\n",
    "}"
   ]
  }
 ],
 "metadata": {
  "kernelspec": {
   "display_name": "Deno",
   "language": "typescript",
   "name": "deno"
  },
  "language_info": {
   "codemirror_mode": "typescript",
   "file_extension": ".ts",
   "mimetype": "text/x.typescript",
   "name": "typescript",
   "nbconvert_exporter": "script",
   "pygments_lexer": "typescript",
   "version": "5.6.2"
  }
 },
 "nbformat": 4,
 "nbformat_minor": 2
}
