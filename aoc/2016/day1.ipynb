{
 "cells": [
  {
   "cell_type": "code",
   "execution_count": 31,
   "metadata": {},
   "outputs": [
    {
     "data": {
      "text/html": [
       "\n",
       "    <style>\n",
       "      * {\n",
       "        font-family: courier;\n",
       "        font-size: 1.1em;\n",
       "      }\n",
       "      code.input {\n",
       "        display: block;\n",
       "        max-height: 200px;\n",
       "        overflow: auto;\n",
       "        margin-top: 10px;\n",
       "        white-space: pre;\n",
       "      }\n",
       "    </style>\n",
       "    <h2>--- Day 1: No Time for a Taxicab ---</h2><p>Santa's sleigh uses a <span title=\"An atomic clock is too inaccurate; he might end up in a wall!\">very high-precision clock</span> to guide its movements, and the clock's oscillator is regulated by stars. Unfortunately, the stars have been stolen... by the Easter Bunny.  To save Christmas, Santa needs you to retrieve all <em class=\"star\">fifty stars</em> by December 25th.</p>\n",
       "<p>Collect stars by solving puzzles.  Two puzzles will be made available on each day in the Advent calendar; the second puzzle is unlocked when you complete the first.  Each puzzle grants <em class=\"star\">one star</em>. Good luck!</p>\n",
       "<p>You're airdropped near <em>Easter Bunny Headquarters</em> in a city somewhere.  \"Near\", unfortunately, is as close as you can get - the instructions on the Easter Bunny Recruiting Document the Elves intercepted start here, and nobody had time to work them out further.</p>\n",
       "<p>The Document indicates that you should start at the given coordinates (where you just landed) and face North.  Then, follow the provided sequence: either turn left (<code>L</code>) or right (<code>R</code>) 90 degrees, then walk forward the given number of blocks, ending at a new intersection.</p>\n",
       "<p>There's no time to follow such ridiculous instructions on foot, though, so you take a moment and work out the destination.  Given that you can only walk on the <a href=\"https://en.wikipedia.org/wiki/Taxicab_geometry\">street grid of the city</a>, how far is the shortest path to the destination?</p>\n",
       "<p>For example:</p>\n",
       "<ul>\n",
       "<li>Following <code>R2, L3</code> leaves you <code>2</code> blocks East and <code>3</code> blocks North, or <code>5</code> blocks away.</li>\n",
       "<li><code>R2, R2, R2</code> leaves you <code>2</code> blocks due South of your starting position, which is <code>2</code> blocks away.</li>\n",
       "<li><code>R5, L5, R5, R3</code> leaves you <code>12</code> blocks away.</li>\n",
       "</ul>\n",
       "<p><em>How many blocks away</em> is Easter Bunny HQ?</p>\n",
       "\n",
       "  "
      ]
     },
     "metadata": {},
     "output_type": "display_data"
    },
    {
     "data": {
      "text/html": [
       "\n",
       "    <style>\n",
       "      * {\n",
       "        font-family: courier;\n",
       "        font-size: 1.1em;\n",
       "      }\n",
       "      code.input {\n",
       "        display: block;\n",
       "        max-height: 200px;\n",
       "        overflow: auto;\n",
       "        margin-top: 10px;\n",
       "        white-space: pre;\n",
       "      }\n",
       "    </style>\n",
       "    \n",
       "      <p>To begin, here's your puzzle input:</p>\n",
       "      <code class=\"input\">L1, R3, R1, L5, L2, L5, R4, L2, R2, R2, L2, R1, L5, R3, L4, L1, L2, R3, R5, L2, R5, L1, R2, L5, R4, R2, R2, L1, L1, R1, L3, L1, R1, L3, R5, R3, R3, L4, R4, L2, L4, R1, R1, L193, R2, L1, R54, R1, L1, R71, L4, R3, R191, R3, R2, L4, R3, R2, L2, L4, L5, R4, R1, L2, L2, L3, L2, L1, R4, R1, R5, R3, L5, R3, R4, L2, R3, L1, L3, L3, L5, L1, L3, L3, L1, R3, L3, L2, R1, L3, L1, R5, R4, R3, R2, R3, L1, L2, R4, L3, R1, L1, L1, R5, R2, R4, R5, L1, L1, R1, L2, L4, R3, L1, L3, R5, R4, R3, R3, L2, R2, L1, R4, R2, L3, L4, L2, R2, R2, L4, R3, R5, L2, R2, R4, R5, L2, L3, L2, R5, L4, L2, R3, L5, R2, L1, R1, R3, R3, L5, L2, L2, R5</code>\n",
       "    \n",
       "  "
      ]
     },
     "metadata": {},
     "output_type": "display_data"
    }
   ],
   "source": [
    "import Aoc from '../aoc.ts';\n",
    "const aoc = await Aoc.load(2016, 1);"
   ]
  },
  {
   "cell_type": "code",
   "execution_count": 34,
   "metadata": {},
   "outputs": [
    {
     "data": {
      "text/plain": [
       "[\n",
       "  \u001b[32m\"W\"\u001b[39m, \u001b[32m\"N\"\u001b[39m, \u001b[32m\"N\"\u001b[39m, \u001b[32m\"N\"\u001b[39m, \u001b[32m\"E\"\u001b[39m, \u001b[32m\"N\"\u001b[39m, \u001b[32m\"N\"\u001b[39m, \u001b[32m\"N\"\u001b[39m, \u001b[32m\"N\"\u001b[39m, \u001b[32m\"N\"\u001b[39m, \u001b[32m\"W\"\u001b[39m, \u001b[32m\"W\"\u001b[39m,\n",
       "  \u001b[32m\"S\"\u001b[39m, \u001b[32m\"S\"\u001b[39m, \u001b[32m\"S\"\u001b[39m, \u001b[32m\"S\"\u001b[39m, \u001b[32m\"S\"\u001b[39m, \u001b[32m\"W\"\u001b[39m, \u001b[32m\"W\"\u001b[39m, \u001b[32m\"W\"\u001b[39m, \u001b[32m\"W\"\u001b[39m, \u001b[32m\"S\"\u001b[39m, \u001b[32m\"S\"\u001b[39m, \u001b[32m\"W\"\u001b[39m,\n",
       "  \u001b[32m\"W\"\u001b[39m, \u001b[32m\"N\"\u001b[39m, \u001b[32m\"N\"\u001b[39m, \u001b[32m\"W\"\u001b[39m, \u001b[32m\"W\"\u001b[39m, \u001b[32m\"N\"\u001b[39m, \u001b[32m\"W\"\u001b[39m, \u001b[32m\"W\"\u001b[39m, \u001b[32m\"W\"\u001b[39m, \u001b[32m\"W\"\u001b[39m, \u001b[32m\"W\"\u001b[39m, \u001b[32m\"N\"\u001b[39m,\n",
       "  \u001b[32m\"N\"\u001b[39m, \u001b[32m\"N\"\u001b[39m, \u001b[32m\"W\"\u001b[39m, \u001b[32m\"W\"\u001b[39m, \u001b[32m\"W\"\u001b[39m, \u001b[32m\"W\"\u001b[39m, \u001b[32m\"S\"\u001b[39m, \u001b[32m\"E\"\u001b[39m, \u001b[32m\"E\"\u001b[39m, \u001b[32m\"S\"\u001b[39m, \u001b[32m\"S\"\u001b[39m, \u001b[32m\"S\"\u001b[39m,\n",
       "  \u001b[32m\"W\"\u001b[39m, \u001b[32m\"W\"\u001b[39m, \u001b[32m\"W\"\u001b[39m, \u001b[32m\"W\"\u001b[39m, \u001b[32m\"W\"\u001b[39m, \u001b[32m\"S\"\u001b[39m, \u001b[32m\"S\"\u001b[39m, \u001b[32m\"W\"\u001b[39m, \u001b[32m\"W\"\u001b[39m, \u001b[32m\"W\"\u001b[39m, \u001b[32m\"W\"\u001b[39m, \u001b[32m\"W\"\u001b[39m,\n",
       "  \u001b[32m\"S\"\u001b[39m, \u001b[32m\"W\"\u001b[39m, \u001b[32m\"W\"\u001b[39m, \u001b[32m\"S\"\u001b[39m, \u001b[32m\"S\"\u001b[39m, \u001b[32m\"S\"\u001b[39m, \u001b[32m\"S\"\u001b[39m, \u001b[32m\"S\"\u001b[39m, \u001b[32m\"W\"\u001b[39m, \u001b[32m\"W\"\u001b[39m, \u001b[32m\"W\"\u001b[39m, \u001b[32m\"W\"\u001b[39m,\n",
       "  \u001b[32m\"N\"\u001b[39m, \u001b[32m\"N\"\u001b[39m, \u001b[32m\"E\"\u001b[39m, \u001b[32m\"E\"\u001b[39m, \u001b[32m\"N\"\u001b[39m, \u001b[32m\"W\"\u001b[39m, \u001b[32m\"N\"\u001b[39m, \u001b[32m\"W\"\u001b[39m, \u001b[32m\"W\"\u001b[39m, \u001b[32m\"W\"\u001b[39m, \u001b[32m\"S\"\u001b[39m, \u001b[32m\"W\"\u001b[39m,\n",
       "  \u001b[32m\"S\"\u001b[39m, \u001b[32m\"S\"\u001b[39m, \u001b[32m\"S\"\u001b[39m, \u001b[32m\"W\"\u001b[39m, \u001b[32m\"W\"\u001b[39m, \u001b[32m\"W\"\u001b[39m, \u001b[32m\"W\"\u001b[39m, \u001b[32m\"W\"\u001b[39m, \u001b[32m\"N\"\u001b[39m, \u001b[32m\"N\"\u001b[39m, \u001b[32m\"N\"\u001b[39m, \u001b[32m\"E\"\u001b[39m,\n",
       "  \u001b[32m\"E\"\u001b[39m, \u001b[32m\"E\"\u001b[39m, \u001b[32m\"N\"\u001b[39m, \u001b[32m\"N\"\u001b[39m,\n",
       "  ... 814 more items\n",
       "]"
      ]
     },
     "execution_count": 34,
     "metadata": {},
     "output_type": "execute_result"
    }
   ],
   "source": [
    "let d = 0;\n",
    "const cardinal = ['N', 'E', 'S', 'W'];\n",
    "const steps = aoc.input.split(', ').flatMap((step) => {\n",
    "  const direction = step[0];\n",
    "  const distance = parseInt(step.slice(1));\n",
    "  d = (d + (direction === 'R' ? 1 : 3)) % 4;\n",
    "  return new Array(distance).fill(cardinal[d]);\n",
    "});\n",
    "steps"
   ]
  },
  {
   "cell_type": "code",
   "execution_count": 35,
   "metadata": {},
   "outputs": [
    {
     "data": {
      "text/plain": [
       "[\n",
       "  [ \u001b[33m-1\u001b[39m, \u001b[33m0\u001b[39m ], [ \u001b[33m0\u001b[39m, \u001b[33m-1\u001b[39m ], [ \u001b[33m0\u001b[39m, \u001b[33m-1\u001b[39m ], [ \u001b[33m0\u001b[39m, \u001b[33m-1\u001b[39m ], [ \u001b[33m1\u001b[39m, \u001b[33m0\u001b[39m ],  [ \u001b[33m0\u001b[39m, \u001b[33m-1\u001b[39m ],\n",
       "  [ \u001b[33m0\u001b[39m, \u001b[33m-1\u001b[39m ], [ \u001b[33m0\u001b[39m, \u001b[33m-1\u001b[39m ], [ \u001b[33m0\u001b[39m, \u001b[33m-1\u001b[39m ], [ \u001b[33m0\u001b[39m, \u001b[33m-1\u001b[39m ], [ \u001b[33m-1\u001b[39m, \u001b[33m0\u001b[39m ], [ \u001b[33m-1\u001b[39m, \u001b[33m0\u001b[39m ],\n",
       "  [ \u001b[33m0\u001b[39m, \u001b[33m1\u001b[39m ],  [ \u001b[33m0\u001b[39m, \u001b[33m1\u001b[39m ],  [ \u001b[33m0\u001b[39m, \u001b[33m1\u001b[39m ],  [ \u001b[33m0\u001b[39m, \u001b[33m1\u001b[39m ],  [ \u001b[33m0\u001b[39m, \u001b[33m1\u001b[39m ],  [ \u001b[33m-1\u001b[39m, \u001b[33m0\u001b[39m ],\n",
       "  [ \u001b[33m-1\u001b[39m, \u001b[33m0\u001b[39m ], [ \u001b[33m-1\u001b[39m, \u001b[33m0\u001b[39m ], [ \u001b[33m-1\u001b[39m, \u001b[33m0\u001b[39m ], [ \u001b[33m0\u001b[39m, \u001b[33m1\u001b[39m ],  [ \u001b[33m0\u001b[39m, \u001b[33m1\u001b[39m ],  [ \u001b[33m-1\u001b[39m, \u001b[33m0\u001b[39m ],\n",
       "  [ \u001b[33m-1\u001b[39m, \u001b[33m0\u001b[39m ], [ \u001b[33m0\u001b[39m, \u001b[33m-1\u001b[39m ], [ \u001b[33m0\u001b[39m, \u001b[33m-1\u001b[39m ], [ \u001b[33m-1\u001b[39m, \u001b[33m0\u001b[39m ], [ \u001b[33m-1\u001b[39m, \u001b[33m0\u001b[39m ], [ \u001b[33m0\u001b[39m, \u001b[33m-1\u001b[39m ],\n",
       "  [ \u001b[33m-1\u001b[39m, \u001b[33m0\u001b[39m ], [ \u001b[33m-1\u001b[39m, \u001b[33m0\u001b[39m ], [ \u001b[33m-1\u001b[39m, \u001b[33m0\u001b[39m ], [ \u001b[33m-1\u001b[39m, \u001b[33m0\u001b[39m ], [ \u001b[33m-1\u001b[39m, \u001b[33m0\u001b[39m ], [ \u001b[33m0\u001b[39m, \u001b[33m-1\u001b[39m ],\n",
       "  [ \u001b[33m0\u001b[39m, \u001b[33m-1\u001b[39m ], [ \u001b[33m0\u001b[39m, \u001b[33m-1\u001b[39m ], [ \u001b[33m-1\u001b[39m, \u001b[33m0\u001b[39m ], [ \u001b[33m-1\u001b[39m, \u001b[33m0\u001b[39m ], [ \u001b[33m-1\u001b[39m, \u001b[33m0\u001b[39m ], [ \u001b[33m-1\u001b[39m, \u001b[33m0\u001b[39m ],\n",
       "  [ \u001b[33m0\u001b[39m, \u001b[33m1\u001b[39m ],  [ \u001b[33m1\u001b[39m, \u001b[33m0\u001b[39m ],  [ \u001b[33m1\u001b[39m, \u001b[33m0\u001b[39m ],  [ \u001b[33m0\u001b[39m, \u001b[33m1\u001b[39m ],  [ \u001b[33m0\u001b[39m, \u001b[33m1\u001b[39m ],  [ \u001b[33m0\u001b[39m, \u001b[33m1\u001b[39m ],\n",
       "  [ \u001b[33m-1\u001b[39m, \u001b[33m0\u001b[39m ], [ \u001b[33m-1\u001b[39m, \u001b[33m0\u001b[39m ], [ \u001b[33m-1\u001b[39m, \u001b[33m0\u001b[39m ], [ \u001b[33m-1\u001b[39m, \u001b[33m0\u001b[39m ], [ \u001b[33m-1\u001b[39m, \u001b[33m0\u001b[39m ], [ \u001b[33m0\u001b[39m, \u001b[33m1\u001b[39m ],\n",
       "  [ \u001b[33m0\u001b[39m, \u001b[33m1\u001b[39m ],  [ \u001b[33m-1\u001b[39m, \u001b[33m0\u001b[39m ], [ \u001b[33m-1\u001b[39m, \u001b[33m0\u001b[39m ], [ \u001b[33m-1\u001b[39m, \u001b[33m0\u001b[39m ], [ \u001b[33m-1\u001b[39m, \u001b[33m0\u001b[39m ], [ \u001b[33m-1\u001b[39m, \u001b[33m0\u001b[39m ],\n",
       "  [ \u001b[33m0\u001b[39m, \u001b[33m1\u001b[39m ],  [ \u001b[33m-1\u001b[39m, \u001b[33m0\u001b[39m ], [ \u001b[33m-1\u001b[39m, \u001b[33m0\u001b[39m ], [ \u001b[33m0\u001b[39m, \u001b[33m1\u001b[39m ],  [ \u001b[33m0\u001b[39m, \u001b[33m1\u001b[39m ],  [ \u001b[33m0\u001b[39m, \u001b[33m1\u001b[39m ],\n",
       "  [ \u001b[33m0\u001b[39m, \u001b[33m1\u001b[39m ],  [ \u001b[33m0\u001b[39m, \u001b[33m1\u001b[39m ],  [ \u001b[33m-1\u001b[39m, \u001b[33m0\u001b[39m ], [ \u001b[33m-1\u001b[39m, \u001b[33m0\u001b[39m ], [ \u001b[33m-1\u001b[39m, \u001b[33m0\u001b[39m ], [ \u001b[33m-1\u001b[39m, \u001b[33m0\u001b[39m ],\n",
       "  [ \u001b[33m0\u001b[39m, \u001b[33m-1\u001b[39m ], [ \u001b[33m0\u001b[39m, \u001b[33m-1\u001b[39m ], [ \u001b[33m1\u001b[39m, \u001b[33m0\u001b[39m ],  [ \u001b[33m1\u001b[39m, \u001b[33m0\u001b[39m ],  [ \u001b[33m0\u001b[39m, \u001b[33m-1\u001b[39m ], [ \u001b[33m-1\u001b[39m, \u001b[33m0\u001b[39m ],\n",
       "  [ \u001b[33m0\u001b[39m, \u001b[33m-1\u001b[39m ], [ \u001b[33m-1\u001b[39m, \u001b[33m0\u001b[39m ], [ \u001b[33m-1\u001b[39m, \u001b[33m0\u001b[39m ], [ \u001b[33m-1\u001b[39m, \u001b[33m0\u001b[39m ], [ \u001b[33m0\u001b[39m, \u001b[33m1\u001b[39m ],  [ \u001b[33m-1\u001b[39m, \u001b[33m0\u001b[39m ],\n",
       "  [ \u001b[33m0\u001b[39m, \u001b[33m1\u001b[39m ],  [ \u001b[33m0\u001b[39m, \u001b[33m1\u001b[39m ],  [ \u001b[33m0\u001b[39m, \u001b[33m1\u001b[39m ],  [ \u001b[33m-1\u001b[39m, \u001b[33m0\u001b[39m ], [ \u001b[33m-1\u001b[39m, \u001b[33m0\u001b[39m ], [ \u001b[33m-1\u001b[39m, \u001b[33m0\u001b[39m ],\n",
       "  [ \u001b[33m-1\u001b[39m, \u001b[33m0\u001b[39m ], [ \u001b[33m-1\u001b[39m, \u001b[33m0\u001b[39m ], [ \u001b[33m0\u001b[39m, \u001b[33m-1\u001b[39m ], [ \u001b[33m0\u001b[39m, \u001b[33m-1\u001b[39m ], [ \u001b[33m0\u001b[39m, \u001b[33m-1\u001b[39m ], [ \u001b[33m1\u001b[39m, \u001b[33m0\u001b[39m ],\n",
       "  [ \u001b[33m1\u001b[39m, \u001b[33m0\u001b[39m ],  [ \u001b[33m1\u001b[39m, \u001b[33m0\u001b[39m ],  [ \u001b[33m0\u001b[39m, \u001b[33m-1\u001b[39m ], [ \u001b[33m0\u001b[39m, \u001b[33m-1\u001b[39m ],\n",
       "  ... 814 more items\n",
       "]"
      ]
     },
     "execution_count": 35,
     "metadata": {},
     "output_type": "execute_result"
    }
   ],
   "source": [
    "const deltas = { N: [0, -1], E: [1, 0], S: [0, 1], W: [-1, 0] };\n",
    "const moves = steps.map((step) => deltas[step]);\n",
    "moves"
   ]
  },
  {
   "cell_type": "code",
   "execution_count": 40,
   "metadata": {},
   "outputs": [
    {
     "data": {
      "text/plain": [
       "[\n",
       "  \u001b[32m\"-1,0\"\u001b[39m,   \u001b[32m\"-1,-1\"\u001b[39m,  \u001b[32m\"-1,-2\"\u001b[39m,  \u001b[32m\"-1,-3\"\u001b[39m,  \u001b[32m\"0,-3\"\u001b[39m,   \u001b[32m\"0,-4\"\u001b[39m,\n",
       "  \u001b[32m\"0,-5\"\u001b[39m,   \u001b[32m\"0,-6\"\u001b[39m,   \u001b[32m\"0,-7\"\u001b[39m,   \u001b[32m\"0,-8\"\u001b[39m,   \u001b[32m\"-1,-8\"\u001b[39m,  \u001b[32m\"-2,-8\"\u001b[39m,\n",
       "  \u001b[32m\"-2,-7\"\u001b[39m,  \u001b[32m\"-2,-6\"\u001b[39m,  \u001b[32m\"-2,-5\"\u001b[39m,  \u001b[32m\"-2,-4\"\u001b[39m,  \u001b[32m\"-2,-3\"\u001b[39m,  \u001b[32m\"-3,-3\"\u001b[39m,\n",
       "  \u001b[32m\"-4,-3\"\u001b[39m,  \u001b[32m\"-5,-3\"\u001b[39m,  \u001b[32m\"-6,-3\"\u001b[39m,  \u001b[32m\"-6,-2\"\u001b[39m,  \u001b[32m\"-6,-1\"\u001b[39m,  \u001b[32m\"-7,-1\"\u001b[39m,\n",
       "  \u001b[32m\"-8,-1\"\u001b[39m,  \u001b[32m\"-8,-2\"\u001b[39m,  \u001b[32m\"-8,-3\"\u001b[39m,  \u001b[32m\"-9,-3\"\u001b[39m,  \u001b[32m\"-10,-3\"\u001b[39m, \u001b[32m\"-10,-4\"\u001b[39m,\n",
       "  \u001b[32m\"-11,-4\"\u001b[39m, \u001b[32m\"-12,-4\"\u001b[39m, \u001b[32m\"-13,-4\"\u001b[39m, \u001b[32m\"-14,-4\"\u001b[39m, \u001b[32m\"-15,-4\"\u001b[39m, \u001b[32m\"-15,-5\"\u001b[39m,\n",
       "  \u001b[32m\"-15,-6\"\u001b[39m, \u001b[32m\"-15,-7\"\u001b[39m, \u001b[32m\"-16,-7\"\u001b[39m, \u001b[32m\"-17,-7\"\u001b[39m, \u001b[32m\"-18,-7\"\u001b[39m, \u001b[32m\"-19,-7\"\u001b[39m,\n",
       "  \u001b[32m\"-19,-6\"\u001b[39m, \u001b[32m\"-18,-6\"\u001b[39m, \u001b[32m\"-17,-6\"\u001b[39m, \u001b[32m\"-17,-5\"\u001b[39m, \u001b[32m\"-17,-4\"\u001b[39m, \u001b[32m\"-17,-3\"\u001b[39m,\n",
       "  \u001b[32m\"-18,-3\"\u001b[39m, \u001b[32m\"-19,-3\"\u001b[39m, \u001b[32m\"-20,-3\"\u001b[39m, \u001b[32m\"-21,-3\"\u001b[39m, \u001b[32m\"-22,-3\"\u001b[39m, \u001b[32m\"-22,-2\"\u001b[39m,\n",
       "  \u001b[32m\"-22,-1\"\u001b[39m, \u001b[32m\"-23,-1\"\u001b[39m, \u001b[32m\"-24,-1\"\u001b[39m, \u001b[32m\"-25,-1\"\u001b[39m, \u001b[32m\"-26,-1\"\u001b[39m, \u001b[32m\"-27,-1\"\u001b[39m,\n",
       "  \u001b[32m\"-27,0\"\u001b[39m,  \u001b[32m\"-28,0\"\u001b[39m,  \u001b[32m\"-29,0\"\u001b[39m,  \u001b[32m\"-29,1\"\u001b[39m,  \u001b[32m\"-29,2\"\u001b[39m,  \u001b[32m\"-29,3\"\u001b[39m,\n",
       "  \u001b[32m\"-29,4\"\u001b[39m,  \u001b[32m\"-29,5\"\u001b[39m,  \u001b[32m\"-30,5\"\u001b[39m,  \u001b[32m\"-31,5\"\u001b[39m,  \u001b[32m\"-32,5\"\u001b[39m,  \u001b[32m\"-33,5\"\u001b[39m,\n",
       "  \u001b[32m\"-33,4\"\u001b[39m,  \u001b[32m\"-33,3\"\u001b[39m,  \u001b[32m\"-32,3\"\u001b[39m,  \u001b[32m\"-31,3\"\u001b[39m,  \u001b[32m\"-31,2\"\u001b[39m,  \u001b[32m\"-32,2\"\u001b[39m,\n",
       "  \u001b[32m\"-32,1\"\u001b[39m,  \u001b[32m\"-33,1\"\u001b[39m,  \u001b[32m\"-34,1\"\u001b[39m,  \u001b[32m\"-35,1\"\u001b[39m,  \u001b[32m\"-35,2\"\u001b[39m,  \u001b[32m\"-36,2\"\u001b[39m,\n",
       "  \u001b[32m\"-36,3\"\u001b[39m,  \u001b[32m\"-36,4\"\u001b[39m,  \u001b[32m\"-36,5\"\u001b[39m,  \u001b[32m\"-37,5\"\u001b[39m,  \u001b[32m\"-38,5\"\u001b[39m,  \u001b[32m\"-39,5\"\u001b[39m,\n",
       "  \u001b[32m\"-40,5\"\u001b[39m,  \u001b[32m\"-41,5\"\u001b[39m,  \u001b[32m\"-41,4\"\u001b[39m,  \u001b[32m\"-41,3\"\u001b[39m,  \u001b[32m\"-41,2\"\u001b[39m,  \u001b[32m\"-40,2\"\u001b[39m,\n",
       "  \u001b[32m\"-39,2\"\u001b[39m,  \u001b[32m\"-38,2\"\u001b[39m,  \u001b[32m\"-38,1\"\u001b[39m,  \u001b[32m\"-38,0\"\u001b[39m,\n",
       "  ... 814 more items\n",
       "]"
      ]
     },
     "execution_count": 40,
     "metadata": {},
     "output_type": "execute_result"
    }
   ],
   "source": [
    "let x = 0, y = 0;\n",
    "const path = moves.map(([dx, dy]) => `${x += dx},${y += dy}`);\n",
    "path"
   ]
  },
  {
   "cell_type": "code",
   "execution_count": 45,
   "metadata": {},
   "outputs": [
    {
     "name": "stdout",
     "output_type": "stream",
     "text": [
      "✅ Part 1 answer 278\n"
     ]
    },
    {
     "data": {
      "text/html": [
       "\n",
       "    <style>\n",
       "      * {\n",
       "        font-family: courier;\n",
       "        font-size: 1.1em;\n",
       "      }\n",
       "      code.input {\n",
       "        display: block;\n",
       "        max-height: 200px;\n",
       "        overflow: auto;\n",
       "        margin-top: 10px;\n",
       "        white-space: pre;\n",
       "      }\n",
       "    </style>\n",
       "    <h2 id=\"part2\">--- Part Two ---</h2><p>Then, you notice the instructions continue on the back of the Recruiting Document.  Easter Bunny HQ is actually at the first location you visit twice.</p>\n",
       "<p>For example, if your instructions are <code>R8, R4, R4, R8</code>, the first location you visit twice is <code>4</code> blocks away, due East.</p>\n",
       "<p>How many blocks away is the <em>first location you visit twice</em>?</p>\n",
       "\n",
       "  "
      ]
     },
     "metadata": {},
     "output_type": "display_data"
    }
   ],
   "source": [
    "const last = path[path.length - 1].split(',').map(Number);\n",
    "void await aoc.answer1(Math.abs(last[0]) + Math.abs(last[1]));"
   ]
  },
  {
   "cell_type": "code",
   "execution_count": 47,
   "metadata": {},
   "outputs": [
    {
     "name": "stdout",
     "output_type": "stream",
     "text": [
      "✅ Part 2 answer 161\n"
     ]
    }
   ],
   "source": [
    "for (let i = 0; i < path.length; i++) {\n",
    "  if (path.indexOf(path[i]) < i) {\n",
    "    const [x, y] = path[i].split(\",\").map(Number);\n",
    "    void await aoc.answer2(Math.abs(x) + Math.abs(y));\n",
    "    break;\n",
    "  }\n",
    "}\n"
   ]
  },
  {
   "cell_type": "code",
   "execution_count": null,
   "metadata": {},
   "outputs": [],
   "source": []
  }
 ],
 "metadata": {
  "kernelspec": {
   "display_name": "Deno",
   "language": "typescript",
   "name": "deno"
  },
  "language_info": {
   "codemirror_mode": "typescript",
   "file_extension": ".ts",
   "mimetype": "text/x.typescript",
   "name": "typescript",
   "nbconvert_exporter": "script",
   "pygments_lexer": "typescript",
   "version": "5.6.2"
  }
 },
 "nbformat": 4,
 "nbformat_minor": 2
}
